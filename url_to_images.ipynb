{
 "cells": [
  {
   "cell_type": "code",
   "execution_count": 17,
   "id": "941f0f3e-800a-4673-9838-438435b5760a",
   "metadata": {},
   "outputs": [],
   "source": [
    "import pandas as pd \n",
    "import numpy as np\n",
    "import os \n",
    "import requests\n",
    "import urllib\n",
    "import ssl"
   ]
  },
  {
   "cell_type": "code",
   "execution_count": 2,
   "id": "dc1f7015-3cb8-4a3a-b777-72a104c4d0f3",
   "metadata": {
    "tags": []
   },
   "outputs": [],
   "source": [
    "acc_df = pd.read_csv('accredited_images.csv')\n",
    "unacc_df = pd.read_csv('unaccredited_images.csv')"
   ]
  },
  {
   "cell_type": "code",
   "execution_count": 3,
   "id": "88c5c617-6467-421f-a959-ac98a59b128e",
   "metadata": {},
   "outputs": [
    {
     "data": {
      "text/html": [
       "<div>\n",
       "<style scoped>\n",
       "    .dataframe tbody tr th:only-of-type {\n",
       "        vertical-align: middle;\n",
       "    }\n",
       "\n",
       "    .dataframe tbody tr th {\n",
       "        vertical-align: top;\n",
       "    }\n",
       "\n",
       "    .dataframe thead th {\n",
       "        text-align: right;\n",
       "    }\n",
       "</style>\n",
       "<table border=\"1\" class=\"dataframe\">\n",
       "  <thead>\n",
       "    <tr style=\"text-align: right;\">\n",
       "      <th></th>\n",
       "      <th>Unnamed: 0</th>\n",
       "      <th>image_urls</th>\n",
       "    </tr>\n",
       "  </thead>\n",
       "  <tbody>\n",
       "    <tr>\n",
       "      <th>0</th>\n",
       "      <td>0</td>\n",
       "      <td>https://acariahealth.envolvehealth.com/content...</td>\n",
       "    </tr>\n",
       "    <tr>\n",
       "      <th>1</th>\n",
       "      <td>1</td>\n",
       "      <td>https://acariahealth.envolvehealth.com/content...</td>\n",
       "    </tr>\n",
       "    <tr>\n",
       "      <th>2</th>\n",
       "      <td>2</td>\n",
       "      <td>https://acariahealth.envolvehealth.com/content...</td>\n",
       "    </tr>\n",
       "    <tr>\n",
       "      <th>3</th>\n",
       "      <td>3</td>\n",
       "      <td>https://acariahealth.envolvehealth.com/content...</td>\n",
       "    </tr>\n",
       "    <tr>\n",
       "      <th>4</th>\n",
       "      <td>4</td>\n",
       "      <td>https://acariahealth.envolvehealth.com/content...</td>\n",
       "    </tr>\n",
       "  </tbody>\n",
       "</table>\n",
       "</div>"
      ],
      "text/plain": [
       "   Unnamed: 0                                         image_urls\n",
       "0           0  https://acariahealth.envolvehealth.com/content...\n",
       "1           1  https://acariahealth.envolvehealth.com/content...\n",
       "2           2  https://acariahealth.envolvehealth.com/content...\n",
       "3           3  https://acariahealth.envolvehealth.com/content...\n",
       "4           4  https://acariahealth.envolvehealth.com/content..."
      ]
     },
     "execution_count": 3,
     "metadata": {},
     "output_type": "execute_result"
    }
   ],
   "source": [
    "acc_df.head()"
   ]
  },
  {
   "cell_type": "code",
   "execution_count": 4,
   "id": "60c51493-7861-4579-bd77-5ba71c129a45",
   "metadata": {},
   "outputs": [
    {
     "name": "stderr",
     "output_type": "stream",
     "text": [
      "C:\\Users\\tulsi\\AppData\\Local\\Temp\\ipykernel_21344\\1327130244.py:4: FutureWarning: The default value of regex will change from True to False in a future version.\n",
      "  unacc_df['image_urls'] = unacc_df['image_urls'].str.replace('.md..', '.md.')\n"
     ]
    }
   ],
   "source": [
    "## removes spaces and other inconsistencies in the unaccredited urls \n",
    "\n",
    "unacc_df['image_urls'] = unacc_df['image_urls'].str.replace(' ', '')\n",
    "unacc_df['image_urls'] = unacc_df['image_urls'].str.replace('.md..', '.md.')"
   ]
  },
  {
   "cell_type": "code",
   "execution_count": 5,
   "id": "926f4c1f-8299-43e6-ba2e-b51bb714e1bb",
   "metadata": {},
   "outputs": [
    {
     "data": {
      "text/html": [
       "<div>\n",
       "<style scoped>\n",
       "    .dataframe tbody tr th:only-of-type {\n",
       "        vertical-align: middle;\n",
       "    }\n",
       "\n",
       "    .dataframe tbody tr th {\n",
       "        vertical-align: top;\n",
       "    }\n",
       "\n",
       "    .dataframe thead th {\n",
       "        text-align: right;\n",
       "    }\n",
       "</style>\n",
       "<table border=\"1\" class=\"dataframe\">\n",
       "  <thead>\n",
       "    <tr style=\"text-align: right;\">\n",
       "      <th></th>\n",
       "      <th>Unnamed: 0</th>\n",
       "      <th>image_urls</th>\n",
       "    </tr>\n",
       "  </thead>\n",
       "  <tbody>\n",
       "    <tr>\n",
       "      <th>0</th>\n",
       "      <td>0</td>\n",
       "      <td>https://static.wixstatic.com/media/3e04e6_80c2...</td>\n",
       "    </tr>\n",
       "    <tr>\n",
       "      <th>1</th>\n",
       "      <td>1</td>\n",
       "      <td>https://static.wixstatic.com/media/3e04e6_f842...</td>\n",
       "    </tr>\n",
       "    <tr>\n",
       "      <th>2</th>\n",
       "      <td>2</td>\n",
       "      <td>https://static.wixstatic.com/media/3e04e6_d015...</td>\n",
       "    </tr>\n",
       "    <tr>\n",
       "      <th>3</th>\n",
       "      <td>3</td>\n",
       "      <td>https://static.wixstatic.com/media/3e04e6_732c...</td>\n",
       "    </tr>\n",
       "    <tr>\n",
       "      <th>4</th>\n",
       "      <td>4</td>\n",
       "      <td>https://static.wixstatic.com/media/40120c_f196...</td>\n",
       "    </tr>\n",
       "    <tr>\n",
       "      <th>...</th>\n",
       "      <td>...</td>\n",
       "      <td>...</td>\n",
       "    </tr>\n",
       "    <tr>\n",
       "      <th>734</th>\n",
       "      <td>734</td>\n",
       "      <td>https://drugsforhealth.org/images/i_bitcoin.png</td>\n",
       "    </tr>\n",
       "    <tr>\n",
       "      <th>735</th>\n",
       "      <td>735</td>\n",
       "      <td>https://drugsforhealth.org/themes/theme1/img/b...</td>\n",
       "    </tr>\n",
       "    <tr>\n",
       "      <th>736</th>\n",
       "      <td>736</td>\n",
       "      <td>https://buyamoxicillinnorx.comAmoxicillin.jpg</td>\n",
       "    </tr>\n",
       "    <tr>\n",
       "      <th>737</th>\n",
       "      <td>737</td>\n",
       "      <td>https://buyazithromycinnorx.comAzithromycin.jpg</td>\n",
       "    </tr>\n",
       "    <tr>\n",
       "      <th>738</th>\n",
       "      <td>738</td>\n",
       "      <td>https://buymetronidazolenorx.comMetronidazole.jpg</td>\n",
       "    </tr>\n",
       "  </tbody>\n",
       "</table>\n",
       "<p>739 rows × 2 columns</p>\n",
       "</div>"
      ],
      "text/plain": [
       "     Unnamed: 0                                         image_urls\n",
       "0             0  https://static.wixstatic.com/media/3e04e6_80c2...\n",
       "1             1  https://static.wixstatic.com/media/3e04e6_f842...\n",
       "2             2  https://static.wixstatic.com/media/3e04e6_d015...\n",
       "3             3  https://static.wixstatic.com/media/3e04e6_732c...\n",
       "4             4  https://static.wixstatic.com/media/40120c_f196...\n",
       "..          ...                                                ...\n",
       "734         734    https://drugsforhealth.org/images/i_bitcoin.png\n",
       "735         735  https://drugsforhealth.org/themes/theme1/img/b...\n",
       "736         736      https://buyamoxicillinnorx.comAmoxicillin.jpg\n",
       "737         737    https://buyazithromycinnorx.comAzithromycin.jpg\n",
       "738         738  https://buymetronidazolenorx.comMetronidazole.jpg\n",
       "\n",
       "[739 rows x 2 columns]"
      ]
     },
     "execution_count": 5,
     "metadata": {},
     "output_type": "execute_result"
    }
   ],
   "source": [
    "unacc_df"
   ]
  },
  {
   "cell_type": "code",
   "execution_count": 6,
   "id": "f94ea9c7-93d2-49c9-8cc9-31a01de50d87",
   "metadata": {},
   "outputs": [],
   "source": [
    "acc_list = acc_df['image_urls'].tolist()\n",
    "unacc_list = unacc_df['image_urls'].tolist()"
   ]
  },
  {
   "cell_type": "code",
   "execution_count": 7,
   "id": "9d2df25f-3c7d-4ca7-86c2-5389b1f2b727",
   "metadata": {},
   "outputs": [],
   "source": [
    "def sort_urls(raw_links_list):\n",
    "    url_list = []\n",
    "    bad_urls = []\n",
    "    for each in raw_links_list:\n",
    "        try:\n",
    "            headers = {'user-agent': 'ds6050 (vkb6bn@virginia.edu)'}\n",
    "            results = requests.get(each, headers=headers, timeout=2.0)\n",
    "        except requests.exceptions.RequestException as e:\n",
    "            #print('Bad URL: ' + each)\n",
    "            bad_urls.append(each)\n",
    "            continue\n",
    "        #print(results)\n",
    "        #print(each) \n",
    "        if results.status_code == 200:\n",
    "            url_list.append(each)\n",
    "    return url_list, bad_urls"
   ]
  },
  {
   "cell_type": "code",
   "execution_count": 8,
   "id": "513727b3-087b-479a-8314-534fba553f36",
   "metadata": {},
   "outputs": [],
   "source": [
    "acc_img_urls, acc_img_bad = sort_urls(acc_list)"
   ]
  },
  {
   "cell_type": "code",
   "execution_count": 137,
   "id": "3d91b344-feb1-4d1d-9d97-06741c548462",
   "metadata": {},
   "outputs": [],
   "source": [
    "# acc_img_urls"
   ]
  },
  {
   "cell_type": "code",
   "execution_count": 9,
   "id": "2f57fe53-324f-4e66-9d44-0ee7fbf2cc57",
   "metadata": {},
   "outputs": [],
   "source": [
    "unacc_img_urls, unacc_img_bad = sort_urls(unacc_list)"
   ]
  },
  {
   "cell_type": "markdown",
   "id": "e71ab699-cc39-445d-a7f0-2f2321370496",
   "metadata": {},
   "source": [
    "Create directory of folders\n",
    "\n",
    "** ONLY RUN ONCE"
   ]
  },
  {
   "cell_type": "code",
   "execution_count": 10,
   "id": "594e9e10-4c79-4d02-817a-1f985ce62853",
   "metadata": {},
   "outputs": [
    {
     "name": "stdout",
     "output_type": "stream",
     "text": [
      "Directory created\n"
     ]
    }
   ],
   "source": [
    "try: \n",
    "    os.mkdir('images')\n",
    "    os.chdir('images')\n",
    "    \n",
    "    os.mkdir('accredited')\n",
    "    os.chdir('accredited')\n",
    "\n",
    "    path = os.getcwd()\n",
    "    parent = os.path.dirname(path)\n",
    "    new_path = os.chdir(parent)\n",
    "    # print(new_path)\n",
    "    \n",
    "    os.mkdir('unaccredited')\n",
    "    print('Directory created')\n",
    "    \n",
    "except:\n",
    "    pass"
   ]
  },
  {
   "cell_type": "code",
   "execution_count": 11,
   "id": "343a33f9-2113-4745-ac3f-18751c46048c",
   "metadata": {},
   "outputs": [],
   "source": [
    "acc_path = './accredited/'\n",
    "unacc_path = './unaccredited/'   "
   ]
  },
  {
   "cell_type": "code",
   "execution_count": 14,
   "id": "26664ad6-045d-4c20-a1b8-43f6e02da5ee",
   "metadata": {},
   "outputs": [
    {
     "data": {
      "text/plain": [
       "'C:\\\\Users\\\\tulsi\\\\OneDrive\\\\Documents\\\\UVA MSDS\\\\Fall 2022\\\\DS 6050\\\\project\\\\github2\\\\project materials\\\\images\\\\accredited'"
      ]
     },
     "execution_count": 14,
     "metadata": {},
     "output_type": "execute_result"
    }
   ],
   "source": [
    "os.getcwd()"
   ]
  },
  {
   "cell_type": "code",
   "execution_count": 13,
   "id": "e0927666-cb29-458a-9bcc-80b4762d87e4",
   "metadata": {},
   "outputs": [],
   "source": [
    "# make sure path opens the accredited folder, change if needed\n",
    "os.chdir(acc_path)"
   ]
  },
  {
   "cell_type": "code",
   "execution_count": 15,
   "id": "dd49fb4b-f042-4eef-9a02-5af0eeb243d5",
   "metadata": {},
   "outputs": [],
   "source": [
    "def download_images(images):\n",
    "    ssl._create_default_https_context = ssl._create_unverified_context # bypasses SSL errors\n",
    "    icount=1\n",
    "    for each in images:\n",
    "        try:\n",
    "            if each.endswith('.jpg'):\n",
    "                urllib.request.urlretrieve(each, f'pic_{str(icount)}.jpg')\n",
    "            icount += 1\n",
    "            if each.endswith('.png'):\n",
    "                urllib.request.urlretrieve(each, f'pic_{str(icount)}.png')\n",
    "            icount += 1\n",
    "        except urllib.error.HTTPError as he:\n",
    "           # print(he.code)\n",
    "            continue\n",
    "        except urllib.error.SSLCertVerificationError as ue:\n",
    "           # print(ue.code)\n",
    "            continue\n",
    "    return icount"
   ]
  },
  {
   "cell_type": "markdown",
   "id": "b19de0ce-59d0-4f87-b5c7-ca0348ba1281",
   "metadata": {},
   "source": [
    "** realized the icount is wrong bc it counts every pic whether it downloads or not, not sure how to fix this"
   ]
  },
  {
   "cell_type": "code",
   "execution_count": 18,
   "id": "d7bb4e6d-9cf5-4d50-91ea-28db9142c15a",
   "metadata": {},
   "outputs": [
    {
     "data": {
      "text/plain": [
       "826"
      ]
     },
     "execution_count": 18,
     "metadata": {},
     "output_type": "execute_result"
    }
   ],
   "source": [
    "download_images(acc_img_urls)"
   ]
  },
  {
   "cell_type": "markdown",
   "id": "9d3f8745-ed26-47b8-8d1a-322d473a867c",
   "metadata": {},
   "source": [
    "should have 394 images in acc folder"
   ]
  },
  {
   "cell_type": "code",
   "execution_count": 19,
   "id": "8bd729ad-5d4e-41e7-b8d8-1e3839319428",
   "metadata": {},
   "outputs": [],
   "source": [
    "path = os.getcwd()\n",
    "parent = os.path.dirname(path)\n",
    "new_path = os.chdir(parent)"
   ]
  },
  {
   "cell_type": "code",
   "execution_count": 20,
   "id": "d54ba26b-bf94-4ee3-a599-abd0f3e842a2",
   "metadata": {},
   "outputs": [],
   "source": [
    "new_path"
   ]
  },
  {
   "cell_type": "code",
   "execution_count": 21,
   "id": "60006ebc-e5dc-4b5a-87e8-7ac445992a8d",
   "metadata": {},
   "outputs": [],
   "source": [
    "os.chdir(unacc_path)"
   ]
  },
  {
   "cell_type": "code",
   "execution_count": 22,
   "id": "80ef90c3-cfab-4d33-9063-5412166fb292",
   "metadata": {},
   "outputs": [
    {
     "data": {
      "text/plain": [
       "'C:\\\\Users\\\\tulsi\\\\OneDrive\\\\Documents\\\\UVA MSDS\\\\Fall 2022\\\\DS 6050\\\\project\\\\github2\\\\project materials\\\\images\\\\unaccredited'"
      ]
     },
     "execution_count": 22,
     "metadata": {},
     "output_type": "execute_result"
    }
   ],
   "source": [
    "os.getcwd()"
   ]
  },
  {
   "cell_type": "code",
   "execution_count": 23,
   "id": "2ca33a39-fe36-4e93-8953-4c6e772b459b",
   "metadata": {},
   "outputs": [
    {
     "data": {
      "text/plain": [
       "842"
      ]
     },
     "execution_count": 23,
     "metadata": {},
     "output_type": "execute_result"
    }
   ],
   "source": [
    "download_images(unacc_img_urls)"
   ]
  },
  {
   "cell_type": "markdown",
   "id": "23bc6a16-24dc-47c0-9aa4-728e25b8c5a6",
   "metadata": {},
   "source": [
    "should have 406 images in unacc folder"
   ]
  },
  {
   "cell_type": "code",
   "execution_count": null,
   "id": "49475b1e-55bb-49f4-b2be-543dc50566c4",
   "metadata": {},
   "outputs": [],
   "source": []
  }
 ],
 "metadata": {
  "kernelspec": {
   "display_name": "Python 3 (ipykernel)",
   "language": "python",
   "name": "python3"
  },
  "language_info": {
   "codemirror_mode": {
    "name": "ipython",
    "version": 3
   },
   "file_extension": ".py",
   "mimetype": "text/x-python",
   "name": "python",
   "nbconvert_exporter": "python",
   "pygments_lexer": "ipython3",
   "version": "3.8.5"
  }
 },
 "nbformat": 4,
 "nbformat_minor": 5
}
