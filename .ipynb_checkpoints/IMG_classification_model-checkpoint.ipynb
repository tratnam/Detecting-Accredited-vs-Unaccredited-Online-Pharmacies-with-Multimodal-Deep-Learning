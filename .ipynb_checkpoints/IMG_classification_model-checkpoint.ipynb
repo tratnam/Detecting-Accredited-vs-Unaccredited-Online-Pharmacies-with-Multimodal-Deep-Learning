{
 "cells": [
  {
   "cell_type": "code",
   "execution_count": 1,
   "metadata": {
    "id": "941f0f3e-800a-4673-9838-438435b5760a"
   },
   "outputs": [],
   "source": [
    "import pandas as pd \n",
    "import numpy as np\n",
    "import os \n",
    "import requests\n",
    "import urllib\n",
    "import ssl"
   ]
  },
  {
   "cell_type": "code",
   "execution_count": 2,
   "metadata": {
    "id": "dc1f7015-3cb8-4a3a-b777-72a104c4d0f3",
    "tags": []
   },
   "outputs": [],
   "source": [
    "acc_df = pd.read_csv('accredited_images.csv')\n",
    "unacc_df = pd.read_csv('unaccredited_images.csv')"
   ]
  },
  {
   "cell_type": "code",
   "execution_count": 3,
   "metadata": {
    "colab": {
     "base_uri": "https://localhost:8080/",
     "height": 206
    },
    "id": "88c5c617-6467-421f-a959-ac98a59b128e",
    "outputId": "83d67fdf-5ebf-4e33-bc69-baa22ebedd70"
   },
   "outputs": [
    {
     "data": {
      "text/html": [
       "<div>\n",
       "<style scoped>\n",
       "    .dataframe tbody tr th:only-of-type {\n",
       "        vertical-align: middle;\n",
       "    }\n",
       "\n",
       "    .dataframe tbody tr th {\n",
       "        vertical-align: top;\n",
       "    }\n",
       "\n",
       "    .dataframe thead th {\n",
       "        text-align: right;\n",
       "    }\n",
       "</style>\n",
       "<table border=\"1\" class=\"dataframe\">\n",
       "  <thead>\n",
       "    <tr style=\"text-align: right;\">\n",
       "      <th></th>\n",
       "      <th>Unnamed: 0</th>\n",
       "      <th>image_urls</th>\n",
       "    </tr>\n",
       "  </thead>\n",
       "  <tbody>\n",
       "    <tr>\n",
       "      <th>0</th>\n",
       "      <td>0</td>\n",
       "      <td>https://acariahealth.envolvehealth.com/content...</td>\n",
       "    </tr>\n",
       "    <tr>\n",
       "      <th>1</th>\n",
       "      <td>1</td>\n",
       "      <td>https://acariahealth.envolvehealth.com/content...</td>\n",
       "    </tr>\n",
       "    <tr>\n",
       "      <th>2</th>\n",
       "      <td>2</td>\n",
       "      <td>https://acariahealth.envolvehealth.com/content...</td>\n",
       "    </tr>\n",
       "    <tr>\n",
       "      <th>3</th>\n",
       "      <td>3</td>\n",
       "      <td>https://acariahealth.envolvehealth.com/content...</td>\n",
       "    </tr>\n",
       "    <tr>\n",
       "      <th>4</th>\n",
       "      <td>4</td>\n",
       "      <td>https://acariahealth.envolvehealth.com/content...</td>\n",
       "    </tr>\n",
       "  </tbody>\n",
       "</table>\n",
       "</div>"
      ],
      "text/plain": [
       "   Unnamed: 0                                         image_urls\n",
       "0           0  https://acariahealth.envolvehealth.com/content...\n",
       "1           1  https://acariahealth.envolvehealth.com/content...\n",
       "2           2  https://acariahealth.envolvehealth.com/content...\n",
       "3           3  https://acariahealth.envolvehealth.com/content...\n",
       "4           4  https://acariahealth.envolvehealth.com/content..."
      ]
     },
     "execution_count": 3,
     "metadata": {},
     "output_type": "execute_result"
    }
   ],
   "source": [
    "acc_df.head()"
   ]
  },
  {
   "cell_type": "code",
   "execution_count": 4,
   "metadata": {
    "colab": {
     "base_uri": "https://localhost:8080/"
    },
    "id": "60c51493-7861-4579-bd77-5ba71c129a45",
    "outputId": "8b356294-6fdb-4b81-e98b-802bf518b30c"
   },
   "outputs": [],
   "source": [
    "## removes spaces and other inconsistencies in the unaccredited urls \n",
    "\n",
    "unacc_df['image_urls'] = unacc_df['image_urls'].str.replace(' ', '')\n",
    "unacc_df['image_urls'] = unacc_df['image_urls'].str.replace('.md..', '.md.')"
   ]
  },
  {
   "cell_type": "code",
   "execution_count": 5,
   "metadata": {
    "colab": {
     "base_uri": "https://localhost:8080/",
     "height": 423
    },
    "id": "926f4c1f-8299-43e6-ba2e-b51bb714e1bb",
    "outputId": "3969c55f-507d-4064-a242-60d57b21dfa9"
   },
   "outputs": [
    {
     "data": {
      "text/html": [
       "<div>\n",
       "<style scoped>\n",
       "    .dataframe tbody tr th:only-of-type {\n",
       "        vertical-align: middle;\n",
       "    }\n",
       "\n",
       "    .dataframe tbody tr th {\n",
       "        vertical-align: top;\n",
       "    }\n",
       "\n",
       "    .dataframe thead th {\n",
       "        text-align: right;\n",
       "    }\n",
       "</style>\n",
       "<table border=\"1\" class=\"dataframe\">\n",
       "  <thead>\n",
       "    <tr style=\"text-align: right;\">\n",
       "      <th></th>\n",
       "      <th>Unnamed: 0</th>\n",
       "      <th>image_urls</th>\n",
       "    </tr>\n",
       "  </thead>\n",
       "  <tbody>\n",
       "    <tr>\n",
       "      <th>0</th>\n",
       "      <td>0</td>\n",
       "      <td>https://static.wixstatic.com/media/3e04e6_80c2...</td>\n",
       "    </tr>\n",
       "    <tr>\n",
       "      <th>1</th>\n",
       "      <td>1</td>\n",
       "      <td>https://static.wixstatic.com/media/3e04e6_f842...</td>\n",
       "    </tr>\n",
       "    <tr>\n",
       "      <th>2</th>\n",
       "      <td>2</td>\n",
       "      <td>https://static.wixstatic.com/media/3e04e6_d015...</td>\n",
       "    </tr>\n",
       "    <tr>\n",
       "      <th>3</th>\n",
       "      <td>3</td>\n",
       "      <td>https://static.wixstatic.com/media/3e04e6_732c...</td>\n",
       "    </tr>\n",
       "    <tr>\n",
       "      <th>4</th>\n",
       "      <td>4</td>\n",
       "      <td>https://static.wixstatic.com/media/40120c_f196...</td>\n",
       "    </tr>\n",
       "    <tr>\n",
       "      <th>...</th>\n",
       "      <td>...</td>\n",
       "      <td>...</td>\n",
       "    </tr>\n",
       "    <tr>\n",
       "      <th>734</th>\n",
       "      <td>734</td>\n",
       "      <td>https://drugsforhealth.org/images/i_bitcoin.png</td>\n",
       "    </tr>\n",
       "    <tr>\n",
       "      <th>735</th>\n",
       "      <td>735</td>\n",
       "      <td>https://drugsforhealth.org/themes/theme1/img/b...</td>\n",
       "    </tr>\n",
       "    <tr>\n",
       "      <th>736</th>\n",
       "      <td>736</td>\n",
       "      <td>https://buyamoxicillinnorx.comAmoxicillin.jpg</td>\n",
       "    </tr>\n",
       "    <tr>\n",
       "      <th>737</th>\n",
       "      <td>737</td>\n",
       "      <td>https://buyazithromycinnorx.comAzithromycin.jpg</td>\n",
       "    </tr>\n",
       "    <tr>\n",
       "      <th>738</th>\n",
       "      <td>738</td>\n",
       "      <td>https://buymetronidazolenorx.comMetronidazole.jpg</td>\n",
       "    </tr>\n",
       "  </tbody>\n",
       "</table>\n",
       "<p>739 rows × 2 columns</p>\n",
       "</div>"
      ],
      "text/plain": [
       "     Unnamed: 0                                         image_urls\n",
       "0             0  https://static.wixstatic.com/media/3e04e6_80c2...\n",
       "1             1  https://static.wixstatic.com/media/3e04e6_f842...\n",
       "2             2  https://static.wixstatic.com/media/3e04e6_d015...\n",
       "3             3  https://static.wixstatic.com/media/3e04e6_732c...\n",
       "4             4  https://static.wixstatic.com/media/40120c_f196...\n",
       "..          ...                                                ...\n",
       "734         734    https://drugsforhealth.org/images/i_bitcoin.png\n",
       "735         735  https://drugsforhealth.org/themes/theme1/img/b...\n",
       "736         736      https://buyamoxicillinnorx.comAmoxicillin.jpg\n",
       "737         737    https://buyazithromycinnorx.comAzithromycin.jpg\n",
       "738         738  https://buymetronidazolenorx.comMetronidazole.jpg\n",
       "\n",
       "[739 rows x 2 columns]"
      ]
     },
     "execution_count": 5,
     "metadata": {},
     "output_type": "execute_result"
    }
   ],
   "source": [
    "unacc_df"
   ]
  },
  {
   "cell_type": "code",
   "execution_count": 6,
   "metadata": {
    "id": "f94ea9c7-93d2-49c9-8cc9-31a01de50d87"
   },
   "outputs": [],
   "source": [
    "acc_list = acc_df['image_urls'].tolist()\n",
    "unacc_list = unacc_df['image_urls'].tolist()"
   ]
  },
  {
   "cell_type": "code",
   "execution_count": 7,
   "metadata": {
    "id": "9d2df25f-3c7d-4ca7-86c2-5389b1f2b727"
   },
   "outputs": [],
   "source": [
    "def sort_urls(raw_links_list):\n",
    "    url_list = []\n",
    "    bad_urls = []\n",
    "    for each in raw_links_list:\n",
    "        try:\n",
    "            headers = {'user-agent': 'ds6050 (vkb6bn@virginia.edu)'}\n",
    "            results = requests.get(each, headers=headers, timeout=2.0)\n",
    "        except requests.exceptions.RequestException as e:\n",
    "            #print('Bad URL: ' + each)\n",
    "            bad_urls.append(each)\n",
    "            continue\n",
    "        #print(results)\n",
    "        #print(each) \n",
    "        if results.status_code == 200:\n",
    "            url_list.append(each)\n",
    "    return url_list, bad_urls"
   ]
  },
  {
   "cell_type": "code",
   "execution_count": 8,
   "metadata": {
    "id": "513727b3-087b-479a-8314-534fba553f36"
   },
   "outputs": [],
   "source": [
    "acc_img_urls, acc_img_bad = sort_urls(acc_list)"
   ]
  },
  {
   "cell_type": "code",
   "execution_count": null,
   "metadata": {
    "id": "3d91b344-feb1-4d1d-9d97-06741c548462"
   },
   "outputs": [],
   "source": [
    "# acc_img_urls"
   ]
  },
  {
   "cell_type": "code",
   "execution_count": 9,
   "metadata": {
    "id": "2f57fe53-324f-4e66-9d44-0ee7fbf2cc57"
   },
   "outputs": [],
   "source": [
    "unacc_img_urls, unacc_img_bad = sort_urls(unacc_list)"
   ]
  },
  {
   "cell_type": "markdown",
   "metadata": {
    "id": "e71ab699-cc39-445d-a7f0-2f2321370496"
   },
   "source": [
    "Create directory of folders\n",
    "\n",
    "** ONLY RUN ONCE"
   ]
  },
  {
   "cell_type": "code",
   "execution_count": 10,
   "metadata": {
    "colab": {
     "base_uri": "https://localhost:8080/"
    },
    "id": "594e9e10-4c79-4d02-817a-1f985ce62853",
    "outputId": "16c42c87-1d16-4d4e-8108-734886414386"
   },
   "outputs": [
    {
     "name": "stdout",
     "output_type": "stream",
     "text": [
      "Directory created\n"
     ]
    }
   ],
   "source": [
    "try: \n",
    "    os.mkdir('images')\n",
    "    os.chdir('images')\n",
    "    \n",
    "    os.mkdir('accredited')\n",
    "    os.chdir('accredited')\n",
    "\n",
    "    path = os.getcwd()\n",
    "    parent = os.path.dirname(path)\n",
    "    new_path = os.chdir(parent)\n",
    "    # print(new_path)\n",
    "    \n",
    "    os.mkdir('unaccredited')\n",
    "    print('Directory created')\n",
    "    \n",
    "except:\n",
    "    pass"
   ]
  },
  {
   "cell_type": "code",
   "execution_count": 11,
   "metadata": {
    "id": "343a33f9-2113-4745-ac3f-18751c46048c"
   },
   "outputs": [],
   "source": [
    "acc_path = './accredited/'\n",
    "unacc_path = './unaccredited/'   "
   ]
  },
  {
   "cell_type": "code",
   "execution_count": 12,
   "metadata": {
    "colab": {
     "base_uri": "https://localhost:8080/",
     "height": 36
    },
    "id": "26664ad6-045d-4c20-a1b8-43f6e02da5ee",
    "outputId": "e5c5d20a-2f21-4733-fa3c-f483360c0640"
   },
   "outputs": [
    {
     "data": {
      "text/plain": [
       "'/sfs/qumulo/qhome/fdf7gn/images'"
      ]
     },
     "execution_count": 12,
     "metadata": {},
     "output_type": "execute_result"
    }
   ],
   "source": [
    "os.getcwd()"
   ]
  },
  {
   "cell_type": "code",
   "execution_count": 13,
   "metadata": {
    "id": "e0927666-cb29-458a-9bcc-80b4762d87e4"
   },
   "outputs": [],
   "source": [
    "# make sure path opens the accredited folder, change if needed\n",
    "os.chdir(acc_path)"
   ]
  },
  {
   "cell_type": "code",
   "execution_count": 14,
   "metadata": {
    "id": "dd49fb4b-f042-4eef-9a02-5af0eeb243d5"
   },
   "outputs": [],
   "source": [
    "def download_images(images):\n",
    "    ssl._create_default_https_context = ssl._create_unverified_context # bypasses SSL errors\n",
    "    icount=1\n",
    "    for each in images:\n",
    "        try:\n",
    "            if each.endswith('.jpg'):\n",
    "                urllib.request.urlretrieve(each, f'pic_{str(icount)}.jpg')\n",
    "            icount += 1\n",
    "            if each.endswith('.png'):\n",
    "                urllib.request.urlretrieve(each, f'pic_{str(icount)}.png')\n",
    "            icount += 1\n",
    "        except urllib.error.HTTPError as he:\n",
    "           # print(he.code)\n",
    "            continue\n",
    "        except urllib.error.SSLCertVerificationError as ue:\n",
    "           # print(ue.code)\n",
    "            continue\n",
    "    return icount"
   ]
  },
  {
   "cell_type": "markdown",
   "metadata": {
    "id": "b19de0ce-59d0-4f87-b5c7-ca0348ba1281"
   },
   "source": [
    "** realized the icount is wrong bc it counts every pic whether it downloads or not, not sure how to fix this"
   ]
  },
  {
   "cell_type": "code",
   "execution_count": 15,
   "metadata": {
    "colab": {
     "base_uri": "https://localhost:8080/"
    },
    "id": "d7bb4e6d-9cf5-4d50-91ea-28db9142c15a",
    "outputId": "5c3eb77e-a014-49c9-b41f-b352ab107d05"
   },
   "outputs": [
    {
     "data": {
      "text/plain": [
       "814"
      ]
     },
     "execution_count": 15,
     "metadata": {},
     "output_type": "execute_result"
    }
   ],
   "source": [
    "download_images(acc_img_urls)"
   ]
  },
  {
   "cell_type": "markdown",
   "metadata": {
    "id": "9d3f8745-ed26-47b8-8d1a-322d473a867c"
   },
   "source": [
    "should have 394 images in acc folder"
   ]
  },
  {
   "cell_type": "code",
   "execution_count": 16,
   "metadata": {
    "id": "8bd729ad-5d4e-41e7-b8d8-1e3839319428"
   },
   "outputs": [],
   "source": [
    "path = os.getcwd()\n",
    "parent = os.path.dirname(path)\n",
    "new_path = os.chdir(parent)"
   ]
  },
  {
   "cell_type": "code",
   "execution_count": 17,
   "metadata": {
    "id": "d54ba26b-bf94-4ee3-a599-abd0f3e842a2"
   },
   "outputs": [],
   "source": [
    "new_path"
   ]
  },
  {
   "cell_type": "code",
   "execution_count": 18,
   "metadata": {
    "id": "60006ebc-e5dc-4b5a-87e8-7ac445992a8d"
   },
   "outputs": [],
   "source": [
    "os.chdir(unacc_path)"
   ]
  },
  {
   "cell_type": "code",
   "execution_count": 19,
   "metadata": {
    "colab": {
     "base_uri": "https://localhost:8080/",
     "height": 36
    },
    "id": "80ef90c3-cfab-4d33-9063-5412166fb292",
    "outputId": "4875ded4-3958-4af8-f8b2-f65913dc44dd"
   },
   "outputs": [
    {
     "data": {
      "text/plain": [
       "'/sfs/qumulo/qhome/fdf7gn/images/unaccredited'"
      ]
     },
     "execution_count": 19,
     "metadata": {},
     "output_type": "execute_result"
    }
   ],
   "source": [
    "os.getcwd()"
   ]
  },
  {
   "cell_type": "code",
   "execution_count": 20,
   "metadata": {
    "colab": {
     "base_uri": "https://localhost:8080/"
    },
    "id": "2ca33a39-fe36-4e93-8953-4c6e772b459b",
    "outputId": "4dfc09ba-7e1a-4e2d-a300-f0ad633a9b13"
   },
   "outputs": [
    {
     "data": {
      "text/plain": [
       "842"
      ]
     },
     "execution_count": 20,
     "metadata": {},
     "output_type": "execute_result"
    }
   ],
   "source": [
    "download_images(unacc_img_urls)"
   ]
  },
  {
   "cell_type": "markdown",
   "metadata": {
    "id": "23bc6a16-24dc-47c0-9aa4-728e25b8c5a6"
   },
   "source": [
    "should have 406 images in unacc folder"
   ]
  },
  {
   "cell_type": "code",
   "execution_count": 22,
   "metadata": {},
   "outputs": [
    {
     "name": "stdout",
     "output_type": "stream",
     "text": [
      "Defaulting to user installation because normal site-packages is not writeable\n",
      "Collecting split-folders\n",
      "  Downloading split_folders-0.5.1-py3-none-any.whl (8.4 kB)\n",
      "Installing collected packages: split-folders\n",
      "\u001b[33m  WARNING: The scripts split-folders, split_folders and splitfolders are installed in '/home/fdf7gn/.local/bin' which is not on PATH.\n",
      "  Consider adding this directory to PATH or, if you prefer to suppress this warning, use --no-warn-script-location.\u001b[0m\n",
      "Successfully installed split-folders-0.5.1\n"
     ]
    }
   ],
   "source": [
    "!pip install split-folders"
   ]
  },
  {
   "cell_type": "code",
   "execution_count": 24,
   "metadata": {},
   "outputs": [
    {
     "name": "stdout",
     "output_type": "stream",
     "text": [
      "Defaulting to user installation because normal site-packages is not writeable\n",
      "Collecting opencv-python\n",
      "  Downloading opencv_python-4.6.0.66-cp36-abi3-manylinux_2_17_x86_64.manylinux2014_x86_64.whl (60.9 MB)\n",
      "\u001b[K     |████████████████████████████████| 60.9 MB 14.4 MB/s eta 0:00:01\n",
      "\u001b[?25hRequirement already satisfied: numpy>=1.14.5; python_version >= \"3.7\" in /sfs/qumulo/qhome/fdf7gn/.local/lib/python3.8/site-packages (from opencv-python) (1.23.4)\n",
      "Installing collected packages: opencv-python\n",
      "Successfully installed opencv-python-4.6.0.66\n"
     ]
    }
   ],
   "source": [
    "!pip install opencv-python"
   ]
  },
  {
   "cell_type": "code",
   "execution_count": 136,
   "metadata": {
    "id": "49475b1e-55bb-49f4-b2be-543dc50566c4"
   },
   "outputs": [],
   "source": [
    "from tensorflow.keras.layers import Input, Lambda, Dense, Flatten,Dropout\n",
    "from tensorflow.keras.models import Model\n",
    "from tensorflow.keras.applications.vgg19 import VGG19\n",
    "from tensorflow.keras.applications.vgg19 import preprocess_input\n",
    "from tensorflow.keras.preprocessing import image\n",
    "from tensorflow.keras.preprocessing.image import ImageDataGenerator\n",
    "from tensorflow.keras.models import Sequential\n",
    "import numpy as np\n",
    "import pandas as pd\n",
    "import os\n",
    "import cv2\n",
    "import matplotlib.pyplot as plt\n",
    "import splitfolders"
   ]
  },
  {
   "cell_type": "code",
   "execution_count": 86,
   "metadata": {},
   "outputs": [],
   "source": [
    "os.chdir('/sfs/qumulo/qhome/fdf7gn/images/')"
   ]
  },
  {
   "cell_type": "code",
   "execution_count": 137,
   "metadata": {},
   "outputs": [
    {
     "data": {
      "text/plain": [
       "'/sfs/qumulo/qhome/fdf7gn/images'"
      ]
     },
     "execution_count": 137,
     "metadata": {},
     "output_type": "execute_result"
    }
   ],
   "source": [
    "os.getcwd()"
   ]
  },
  {
   "cell_type": "code",
   "execution_count": 138,
   "metadata": {
    "colab": {
     "base_uri": "https://localhost:8080/"
    },
    "id": "O_zF9K1f76ei",
    "outputId": "961700a6-0a45-4a24-e28e-aea28b5cb5fa"
   },
   "outputs": [
    {
     "name": "stderr",
     "output_type": "stream",
     "text": [
      "Copying files: 794 files [00:06, 123.09 files/s]\n"
     ]
    }
   ],
   "source": [
    "\n",
    "splitfolders.ratio('/sfs/qumulo/qhome/fdf7gn/images', output=\"split\", seed=123, ratio=(.8, 0.1,0.1)) "
   ]
  },
  {
   "cell_type": "code",
   "execution_count": 147,
   "metadata": {
    "id": "h8Qjz9xr50Pr"
   },
   "outputs": [],
   "source": [
    "train_path=\"/sfs/qumulo/qhome/fdf7gn/images/split/train\"\n",
    "test_path=\"/sfs/qumulo/qhome/fdf7gn/images/split/test\"\n",
    "val_path=\"/sfs/qumulo/qhome/fdf7gn/images/split/val\""
   ]
  },
  {
   "cell_type": "code",
   "execution_count": 148,
   "metadata": {
    "id": "QgvDVC9m6Bui"
   },
   "outputs": [],
   "source": [
    "x_train=[]\n",
    "for folder in os.listdir(train_path):\n",
    "\n",
    "    sub_path=train_path+\"/\"+folder\n",
    "\n",
    "    for img in os.listdir(sub_path):\n",
    "        image_path=sub_path+\"/\"+img\n",
    "        img_arr=cv2.imread(image_path)\n",
    "        #try:\n",
    "        img_arr=cv2.resize(img_arr,(224,224))\n",
    "        #except:\n",
    "        #    break\n",
    "        x_train.append(img_arr)\n",
    "\n",
    "x_test=[]\n",
    "\n",
    "for folder in os.listdir(test_path):\n",
    "\n",
    "    sub_path=test_path+\"/\"+folder\n",
    "\n",
    "    for img in os.listdir(sub_path):\n",
    "\n",
    "        image_path=sub_path+\"/\"+img\n",
    "\n",
    "        img_arr=cv2.imread(image_path)\n",
    "\n",
    "        img_arr=cv2.resize(img_arr,(224,224))\n",
    "\n",
    "        x_test.append(img_arr)\n",
    "\n",
    "x_val=[]\n",
    "\n",
    "for folder in os.listdir(val_path):\n",
    "\n",
    "    sub_path=val_path+\"/\"+folder\n",
    "\n",
    "    for img in os.listdir(sub_path):\n",
    "\n",
    "        image_path=sub_path+\"/\"+img\n",
    "\n",
    "        img_arr=cv2.imread(image_path)\n",
    "\n",
    "        img_arr=cv2.resize(img_arr,(224,224))\n",
    "\n",
    "        x_val.append(img_arr)"
   ]
  },
  {
   "cell_type": "code",
   "execution_count": 149,
   "metadata": {
    "id": "lwMnbQfx6Z7H"
   },
   "outputs": [],
   "source": [
    "train_x=np.array(x_train)\n",
    "test_x=np.array(x_test)\n",
    "val_x=np.array(x_val)"
   ]
  },
  {
   "cell_type": "code",
   "execution_count": 150,
   "metadata": {
    "id": "SOCvDVP282Ri"
   },
   "outputs": [],
   "source": [
    "train_x=train_x/255.0\n",
    "test_x=test_x/255.0\n",
    "val_x=val_x/255.0"
   ]
  },
  {
   "cell_type": "code",
   "execution_count": 151,
   "metadata": {
    "id": "IVR9xEhP84jk"
   },
   "outputs": [],
   "source": [
    "train_datagen = ImageDataGenerator(rescale = 1./255)\n",
    "test_datagen = ImageDataGenerator(rescale = 1./255)\n",
    "val_datagen = ImageDataGenerator(rescale = 1./255)"
   ]
  },
  {
   "cell_type": "code",
   "execution_count": 152,
   "metadata": {
    "colab": {
     "base_uri": "https://localhost:8080/"
    },
    "id": "rw7b6myp87RA",
    "outputId": "198be7c4-5c57-4f13-8298-6b5b5af0658a"
   },
   "outputs": [
    {
     "name": "stdout",
     "output_type": "stream",
     "text": [
      "Found 634 images belonging to 2 classes.\n",
      "Found 82 images belonging to 2 classes.\n",
      "Found 78 images belonging to 2 classes.\n"
     ]
    }
   ],
   "source": [
    "training_set = train_datagen.flow_from_directory(train_path,\n",
    "                                                 target_size = (224, 224),\n",
    "                                                 batch_size = 32,\n",
    "                                                 class_mode = 'sparse')\n",
    "test_set = test_datagen.flow_from_directory(test_path,\n",
    "                                            target_size = (224, 224),\n",
    "                                            batch_size = 32,\n",
    "                                            class_mode = 'sparse')\n",
    "val_set = val_datagen.flow_from_directory(val_path,\n",
    "                                            target_size = (224, 224),\n",
    "                                            batch_size = 32,\n",
    "                                            class_mode = 'sparse')"
   ]
  },
  {
   "cell_type": "code",
   "execution_count": 153,
   "metadata": {
    "id": "-nC3CZEy89u5"
   },
   "outputs": [],
   "source": [
    "train_y=training_set.classes\n",
    "test_y=test_set.classes\n",
    "val_y=val_set.classes"
   ]
  },
  {
   "cell_type": "code",
   "execution_count": 154,
   "metadata": {
    "colab": {
     "base_uri": "https://localhost:8080/"
    },
    "id": "No6Feptw9Bmh",
    "outputId": "9b32b463-c8e2-4cbb-9589-057f7aa84816"
   },
   "outputs": [
    {
     "data": {
      "text/plain": [
       "{'accredited': 0, 'unaccredited': 1}"
      ]
     },
     "execution_count": 154,
     "metadata": {},
     "output_type": "execute_result"
    }
   ],
   "source": [
    "training_set.class_indices"
   ]
  },
  {
   "cell_type": "code",
   "execution_count": 155,
   "metadata": {
    "colab": {
     "base_uri": "https://localhost:8080/"
    },
    "id": "ZsIjyCfl9Dvk",
    "outputId": "b3ea60c4-dd10-4064-b411-481f88a11605"
   },
   "outputs": [
    {
     "data": {
      "text/plain": [
       "((634,), (82,), (78,))"
      ]
     },
     "execution_count": 155,
     "metadata": {},
     "output_type": "execute_result"
    }
   ],
   "source": [
    "train_y.shape,test_y.shape,val_y.shape"
   ]
  },
  {
   "cell_type": "code",
   "execution_count": 156,
   "metadata": {
    "colab": {
     "base_uri": "https://localhost:8080/"
    },
    "id": "LEHsjVOq9Gzp",
    "outputId": "d68ed907-b3e6-4702-8cc9-d78b951b36dc"
   },
   "outputs": [],
   "source": [
    "IMAGE_SIZE = [224, 224]\n",
    "vgg = VGG19(input_shape=IMAGE_SIZE + [3], weights='imagenet', include_top=False)"
   ]
  },
  {
   "cell_type": "code",
   "execution_count": 157,
   "metadata": {
    "id": "x95F0Kpy9LWu"
   },
   "outputs": [],
   "source": [
    "for layer in vgg.layers:\n",
    "    layer.trainable = False"
   ]
  },
  {
   "cell_type": "code",
   "execution_count": 158,
   "metadata": {
    "id": "eLsXlcPS-L1J"
   },
   "outputs": [],
   "source": [
    "x = Flatten()(vgg.output)"
   ]
  },
  {
   "cell_type": "code",
   "execution_count": 159,
   "metadata": {
    "id": "-REPDUOz-Ohy"
   },
   "outputs": [],
   "source": [
    "prediction = Dense(3, activation='softmax')(x)\n",
    "\n",
    "model = Model(inputs=vgg.input, outputs=prediction)"
   ]
  },
  {
   "cell_type": "code",
   "execution_count": 160,
   "metadata": {
    "colab": {
     "base_uri": "https://localhost:8080/"
    },
    "id": "oTRhSANk-RK5",
    "outputId": "13fe66f5-b25f-4f37-b11d-95d66c48c8c5"
   },
   "outputs": [
    {
     "name": "stdout",
     "output_type": "stream",
     "text": [
      "Model: \"model_5\"\n",
      "_________________________________________________________________\n",
      " Layer (type)                Output Shape              Param #   \n",
      "=================================================================\n",
      " input_8 (InputLayer)        [(None, 224, 224, 3)]     0         \n",
      "                                                                 \n",
      " block1_conv1 (Conv2D)       (None, 224, 224, 64)      1792      \n",
      "                                                                 \n",
      " block1_conv2 (Conv2D)       (None, 224, 224, 64)      36928     \n",
      "                                                                 \n",
      " block1_pool (MaxPooling2D)  (None, 112, 112, 64)      0         \n",
      "                                                                 \n",
      " block2_conv1 (Conv2D)       (None, 112, 112, 128)     73856     \n",
      "                                                                 \n",
      " block2_conv2 (Conv2D)       (None, 112, 112, 128)     147584    \n",
      "                                                                 \n",
      " block2_pool (MaxPooling2D)  (None, 56, 56, 128)       0         \n",
      "                                                                 \n",
      " block3_conv1 (Conv2D)       (None, 56, 56, 256)       295168    \n",
      "                                                                 \n",
      " block3_conv2 (Conv2D)       (None, 56, 56, 256)       590080    \n",
      "                                                                 \n",
      " block3_conv3 (Conv2D)       (None, 56, 56, 256)       590080    \n",
      "                                                                 \n",
      " block3_conv4 (Conv2D)       (None, 56, 56, 256)       590080    \n",
      "                                                                 \n",
      " block3_pool (MaxPooling2D)  (None, 28, 28, 256)       0         \n",
      "                                                                 \n",
      " block4_conv1 (Conv2D)       (None, 28, 28, 512)       1180160   \n",
      "                                                                 \n",
      " block4_conv2 (Conv2D)       (None, 28, 28, 512)       2359808   \n",
      "                                                                 \n",
      " block4_conv3 (Conv2D)       (None, 28, 28, 512)       2359808   \n",
      "                                                                 \n",
      " block4_conv4 (Conv2D)       (None, 28, 28, 512)       2359808   \n",
      "                                                                 \n",
      " block4_pool (MaxPooling2D)  (None, 14, 14, 512)       0         \n",
      "                                                                 \n",
      " block5_conv1 (Conv2D)       (None, 14, 14, 512)       2359808   \n",
      "                                                                 \n",
      " block5_conv2 (Conv2D)       (None, 14, 14, 512)       2359808   \n",
      "                                                                 \n",
      " block5_conv3 (Conv2D)       (None, 14, 14, 512)       2359808   \n",
      "                                                                 \n",
      " block5_conv4 (Conv2D)       (None, 14, 14, 512)       2359808   \n",
      "                                                                 \n",
      " block5_pool (MaxPooling2D)  (None, 7, 7, 512)         0         \n",
      "                                                                 \n",
      " flatten_4 (Flatten)         (None, 25088)             0         \n",
      "                                                                 \n",
      " dense_11 (Dense)            (None, 3)                 75267     \n",
      "                                                                 \n",
      "=================================================================\n",
      "Total params: 20,099,651\n",
      "Trainable params: 75,267\n",
      "Non-trainable params: 20,024,384\n",
      "_________________________________________________________________\n"
     ]
    }
   ],
   "source": [
    "model.summary()"
   ]
  },
  {
   "cell_type": "code",
   "execution_count": 161,
   "metadata": {
    "id": "TrrnJkwf-TkR"
   },
   "outputs": [],
   "source": [
    "model.compile(\n",
    "  loss='sparse_categorical_crossentropy',\n",
    "  optimizer=\"adam\",\n",
    "  metrics=['accuracy']\n",
    ")"
   ]
  },
  {
   "cell_type": "code",
   "execution_count": 162,
   "metadata": {
    "id": "jkBChHTz-WXR"
   },
   "outputs": [],
   "source": [
    "from tensorflow.keras.callbacks import EarlyStopping\n",
    "early_stop=EarlyStopping(monitor='val_loss',mode='min',verbose=1,patience=5)"
   ]
  },
  {
   "cell_type": "code",
   "execution_count": 163,
   "metadata": {
    "colab": {
     "base_uri": "https://localhost:8080/"
    },
    "id": "O8o6hwNR-aGp",
    "outputId": "f33066dc-1197-4291-f3e4-a73fa70d6fc5"
   },
   "outputs": [
    {
     "name": "stdout",
     "output_type": "stream",
     "text": [
      "Epoch 1/10\n",
      "20/20 [==============================] - 17s 836ms/step - loss: 0.8421 - accuracy: 0.6782 - val_loss: 0.4888 - val_accuracy: 0.7692\n",
      "Epoch 2/10\n",
      "20/20 [==============================] - 17s 842ms/step - loss: 0.2870 - accuracy: 0.8912 - val_loss: 0.3338 - val_accuracy: 0.8974\n",
      "Epoch 3/10\n",
      "20/20 [==============================] - 16s 821ms/step - loss: 0.1447 - accuracy: 0.9479 - val_loss: 0.3112 - val_accuracy: 0.9231\n",
      "Epoch 4/10\n",
      "20/20 [==============================] - 17s 830ms/step - loss: 0.0953 - accuracy: 0.9842 - val_loss: 0.3151 - val_accuracy: 0.9103\n",
      "Epoch 5/10\n",
      "20/20 [==============================] - 16s 829ms/step - loss: 0.0721 - accuracy: 0.9921 - val_loss: 0.2955 - val_accuracy: 0.9103\n",
      "Epoch 6/10\n",
      "20/20 [==============================] - 16s 827ms/step - loss: 0.0571 - accuracy: 0.9937 - val_loss: 0.3129 - val_accuracy: 0.9103\n",
      "Epoch 7/10\n",
      "20/20 [==============================] - 17s 856ms/step - loss: 0.0510 - accuracy: 0.9953 - val_loss: 0.3083 - val_accuracy: 0.9103\n",
      "Epoch 8/10\n",
      "20/20 [==============================] - 16s 818ms/step - loss: 0.0465 - accuracy: 0.9937 - val_loss: 0.3087 - val_accuracy: 0.8974\n",
      "Epoch 9/10\n",
      "20/20 [==============================] - 16s 819ms/step - loss: 0.0356 - accuracy: 0.9968 - val_loss: 0.3029 - val_accuracy: 0.9103\n",
      "Epoch 10/10\n",
      "20/20 [==============================] - 17s 843ms/step - loss: 0.0299 - accuracy: 0.9968 - val_loss: 0.3043 - val_accuracy: 0.9103\n",
      "Epoch 10: early stopping\n"
     ]
    }
   ],
   "source": [
    "history = model.fit(\n",
    "  train_x,\n",
    "  train_y,\n",
    "  validation_data=(val_x,val_y),\n",
    "  epochs=10,\n",
    "  callbacks=[early_stop],\n",
    "  batch_size=32,shuffle=True)"
   ]
  },
  {
   "cell_type": "code",
   "execution_count": 164,
   "metadata": {
    "id": "Y_jxQ-Vn-c0U"
   },
   "outputs": [
    {
     "data": {
      "image/png": "[encoded data removed]",
      "text/plain": [
       "<Figure size 432x288 with 1 Axes>"
      ]
     },
     "metadata": {},
     "output_type": "display_data"
    }
   ],
   "source": [
    "plt.plot(history.history['accuracy'], label='train acc')\n",
    "plt.plot(history.history['val_accuracy'], label='val acc')\n",
    "plt.legend()\n",
    "plt.savefig('vgg-acc-rps-1.png')\n",
    "plt.show()"
   ]
  },
  {
   "cell_type": "code",
   "execution_count": 165,
   "metadata": {},
   "outputs": [
    {
     "data": {
      "image/png": "[encoded data removed]",
      "text/plain": [
       "<Figure size 432x288 with 1 Axes>"
      ]
     },
     "metadata": {},
     "output_type": "display_data"
    }
   ],
   "source": [
    "plt.plot(history.history['loss'], label='train loss')\n",
    "plt.plot(history.history['val_loss'], label='val loss')\n",
    "plt.legend()\n",
    "plt.savefig('vgg-loss-rps-1.png')\n",
    "plt.show()"
   ]
  },
  {
   "cell_type": "code",
   "execution_count": 119,
   "metadata": {},
   "outputs": [
    {
     "name": "stdout",
     "output_type": "stream",
     "text": [
      "3/3 [==============================] - 2s 588ms/step - loss: 16.5114 - accuracy: 0.0732\n"
     ]
    },
    {
     "data": {
      "text/plain": [
       "[16.511411666870117, 0.0731707289814949]"
      ]
     },
     "execution_count": 119,
     "metadata": {},
     "output_type": "execute_result"
    }
   ],
   "source": [
    "model.evaluate(test_x,test_y,batch_size=32)"
   ]
  },
  {
   "cell_type": "code",
   "execution_count": 167,
   "metadata": {},
   "outputs": [
    {
     "name": "stdout",
     "output_type": "stream",
     "text": [
      "3/3 [==============================] - 2s 572ms/step - loss: 0.4463 - accuracy: 0.8415\n"
     ]
    }
   ],
   "source": [
    "vgg_acc = model.evaluate(test_x,test_y,batch_size=32)[1]"
   ]
  },
  {
   "cell_type": "code",
   "execution_count": 168,
   "metadata": {},
   "outputs": [
    {
     "data": {
      "text/plain": [
       "0.8414633870124817"
      ]
     },
     "execution_count": 168,
     "metadata": {},
     "output_type": "execute_result"
    }
   ],
   "source": [
    "vgg_acc"
   ]
  },
  {
   "cell_type": "code",
   "execution_count": 169,
   "metadata": {},
   "outputs": [],
   "source": [
    "from sklearn.metrics import accuracy_score,classification_report,confusion_matrix\n",
    "import numpy as np"
   ]
  },
  {
   "cell_type": "code",
   "execution_count": 170,
   "metadata": {},
   "outputs": [
    {
     "name": "stdout",
     "output_type": "stream",
     "text": [
      "3/3 [==============================] - 2s 610ms/step\n"
     ]
    }
   ],
   "source": [
    "y_pred=model.predict(test_x)\n",
    "y_pred=np.argmax(y_pred,axis=1)"
   ]
  },
  {
   "cell_type": "code",
   "execution_count": 171,
   "metadata": {},
   "outputs": [
    {
     "name": "stdout",
     "output_type": "stream",
     "text": [
      "              precision    recall  f1-score   support\n",
      "\n",
      "           0       0.88      0.81      0.84        43\n",
      "           1       0.81      0.87      0.84        39\n",
      "\n",
      "    accuracy                           0.84        82\n",
      "   macro avg       0.84      0.84      0.84        82\n",
      "weighted avg       0.84      0.84      0.84        82\n",
      "\n"
     ]
    }
   ],
   "source": [
    "print(classification_report(y_pred,test_y))"
   ]
  },
  {
   "cell_type": "code",
   "execution_count": 172,
   "metadata": {},
   "outputs": [
    {
     "name": "stdout",
     "output_type": "stream",
     "text": [
      "[[35  8]\n",
      " [ 5 34]]\n"
     ]
    }
   ],
   "source": [
    "print(confusion_matrix(y_pred,test_y))"
   ]
  },
  {
   "cell_type": "code",
   "execution_count": 173,
   "metadata": {},
   "outputs": [],
   "source": [
    "import matplotlib.pyplot as plt\n",
    "import seaborn as sns\n",
    "\n",
    "import keras\n",
    "from keras.models import Sequential\n",
    "from keras.layers import Dense, Conv2D , MaxPool2D , Flatten , Dropout \n",
    "from keras.preprocessing.image import ImageDataGenerator\n",
    "from keras.optimizers import Adam\n",
    "\n",
    "from sklearn.metrics import classification_report,confusion_matrix\n",
    "\n",
    "import tensorflow as tf\n",
    "\n",
    "import cv2\n",
    "import os\n",
    "\n",
    "import numpy as np"
   ]
  },
  {
   "cell_type": "code",
   "execution_count": 174,
   "metadata": {},
   "outputs": [],
   "source": [
    "labels = ['accredited', 'unaccredited']\n",
    "img_size = 224\n",
    "def get_data(data_dir):\n",
    "    data = [] \n",
    "    for label in labels: \n",
    "        path = os.path.join(data_dir, label)\n",
    "        class_num = labels.index(label)\n",
    "        for img in os.listdir(path):\n",
    "            try:\n",
    "                img_arr = cv2.imread(os.path.join(path, img))[...,::-1] #convert BGR to RGB format\n",
    "                resized_arr = cv2.resize(img_arr, (img_size, img_size)) # Reshaping images to preferred size\n",
    "                data.append([resized_arr, class_num])\n",
    "            except Exception as e:\n",
    "                print(e)\n",
    "    return np.array(data)"
   ]
  },
  {
   "cell_type": "code",
   "execution_count": 175,
   "metadata": {},
   "outputs": [
    {
     "name": "stderr",
     "output_type": "stream",
     "text": [
      "<ipython-input-174-8c9aff821d98>:15: VisibleDeprecationWarning: Creating an ndarray from ragged nested sequences (which is a list-or-tuple of lists-or-tuples-or ndarrays with different lengths or shapes) is deprecated. If you meant to do this, you must specify 'dtype=object' when creating the ndarray.\n",
      "  return np.array(data)\n"
     ]
    }
   ],
   "source": [
    "train = get_data('/sfs/qumulo/qhome/fdf7gn/images/split/train')\n",
    "val = get_data('/sfs/qumulo/qhome/fdf7gn/images/split/test')"
   ]
  },
  {
   "cell_type": "code",
   "execution_count": 176,
   "metadata": {},
   "outputs": [
    {
     "name": "stderr",
     "output_type": "stream",
     "text": [
      "/apps/software/standard/compiler/gcc/9.2.0/jupyter_conda/2020.11-py3.8/lib/python3.8/site-packages/seaborn/_decorators.py:36: FutureWarning: Pass the following variable as a keyword arg: x. From version 0.12, the only valid positional argument will be `data`, and passing other arguments without an explicit keyword will result in an error or misinterpretation.\n",
      "  warnings.warn(\n"
     ]
    },
    {
     "data": {
      "text/plain": [
       "<AxesSubplot:ylabel='count'>"
      ]
     },
     "execution_count": 176,
     "metadata": {},
     "output_type": "execute_result"
    },
    {
     "data": {
      "image/png": "[encoded data removed]",
      "text/plain": [
       "<Figure size 432x288 with 1 Axes>"
      ]
     },
     "metadata": {},
     "output_type": "display_data"
    }
   ],
   "source": [
    "l = []\n",
    "for i in train:\n",
    "    if(i[1] == 0):\n",
    "        l.append(\"accredited\")\n",
    "    else:\n",
    "        l.append(\"unaccredited\")\n",
    "sns.set_style('darkgrid')\n",
    "sns.countplot(l)"
   ]
  },
  {
   "cell_type": "code",
   "execution_count": 177,
   "metadata": {},
   "outputs": [
    {
     "data": {
      "text/plain": [
       "Text(0.5, 1.0, 'accredited')"
      ]
     },
     "execution_count": 177,
     "metadata": {},
     "output_type": "execute_result"
    },
    {
     "data": {
      "image/png": "[encoded data removed]",
      "text/plain": [
       "<Figure size 360x360 with 1 Axes>"
      ]
     },
     "metadata": {},
     "output_type": "display_data"
    }
   ],
   "source": [
    "plt.figure(figsize = (5,5))\n",
    "plt.imshow(train[1][0])\n",
    "plt.title(labels[train[0][1]])"
   ]
  },
  {
   "cell_type": "code",
   "execution_count": 178,
   "metadata": {},
   "outputs": [
    {
     "data": {
      "text/plain": [
       "Text(0.5, 1.0, 'unaccredited')"
      ]
     },
     "execution_count": 178,
     "metadata": {},
     "output_type": "execute_result"
    },
    {
     "data": {
      "image/png": "[encoded data removed]",
      "text/plain": [
       "<Figure size 360x360 with 1 Axes>"
      ]
     },
     "metadata": {},
     "output_type": "display_data"
    }
   ],
   "source": [
    "plt.figure(figsize = (5,5))\n",
    "plt.imshow(train[-1][0])\n",
    "plt.title(labels[train[-1][1]])"
   ]
  },
  {
   "cell_type": "code",
   "execution_count": 179,
   "metadata": {},
   "outputs": [],
   "source": [
    "x_train = []\n",
    "y_train = []\n",
    "x_val = []\n",
    "y_val = []\n",
    "\n",
    "for feature, label in train:\n",
    "  x_train.append(feature)\n",
    "  y_train.append(label)\n",
    "\n",
    "for feature, label in val:\n",
    "  x_val.append(feature)\n",
    "  y_val.append(label)\n",
    "\n",
    "# Normalize the data\n",
    "x_train = np.array(x_train) / 255\n",
    "x_val = np.array(x_val) / 255\n",
    "\n",
    "x_train.reshape(-1, img_size, img_size, 1)\n",
    "y_train = np.array(y_train)\n",
    "\n",
    "x_val.reshape(-1, img_size, img_size, 1)\n",
    "y_val = np.array(y_val)"
   ]
  },
  {
   "cell_type": "code",
   "execution_count": 180,
   "metadata": {},
   "outputs": [],
   "source": [
    "datagen = ImageDataGenerator(\n",
    "        featurewise_center=False,  # set input mean to 0 over the dataset\n",
    "        samplewise_center=False,  # set each sample mean to 0\n",
    "        featurewise_std_normalization=False,  # divide inputs by std of the dataset\n",
    "        samplewise_std_normalization=False,  # divide each input by its std\n",
    "        zca_whitening=False,  # apply ZCA whitening\n",
    "        rotation_range = 30,  # randomly rotate images in the range (degrees, 0 to 180)\n",
    "        zoom_range = 0.2, # Randomly zoom image \n",
    "        width_shift_range=0.1,  # randomly shift images horizontally (fraction of total width)\n",
    "        height_shift_range=0.1,  # randomly shift images vertically (fraction of total height)\n",
    "        horizontal_flip = True,  # randomly flip images\n",
    "        vertical_flip=False)  # randomly flip images\n",
    "\n",
    "\n",
    "datagen.fit(x_train)"
   ]
  },
  {
   "cell_type": "code",
   "execution_count": 181,
   "metadata": {},
   "outputs": [
    {
     "name": "stdout",
     "output_type": "stream",
     "text": [
      "Model: \"sequential_5\"\n",
      "_________________________________________________________________\n",
      " Layer (type)                Output Shape              Param #   \n",
      "=================================================================\n",
      " conv2d_7 (Conv2D)           (None, 224, 224, 32)      896       \n",
      "                                                                 \n",
      " max_pooling2d_3 (MaxPooling  (None, 112, 112, 32)     0         \n",
      " 2D)                                                             \n",
      "                                                                 \n",
      " conv2d_8 (Conv2D)           (None, 112, 112, 32)      9248      \n",
      "                                                                 \n",
      " max_pooling2d_4 (MaxPooling  (None, 56, 56, 32)       0         \n",
      " 2D)                                                             \n",
      "                                                                 \n",
      " conv2d_9 (Conv2D)           (None, 56, 56, 64)        18496     \n",
      "                                                                 \n",
      " max_pooling2d_5 (MaxPooling  (None, 28, 28, 64)       0         \n",
      " 2D)                                                             \n",
      "                                                                 \n",
      " dropout_5 (Dropout)         (None, 28, 28, 64)        0         \n",
      "                                                                 \n",
      " flatten_5 (Flatten)         (None, 50176)             0         \n",
      "                                                                 \n",
      " dense_12 (Dense)            (None, 128)               6422656   \n",
      "                                                                 \n",
      " dense_13 (Dense)            (None, 2)                 258       \n",
      "                                                                 \n",
      "=================================================================\n",
      "Total params: 6,451,554\n",
      "Trainable params: 6,451,554\n",
      "Non-trainable params: 0\n",
      "_________________________________________________________________\n"
     ]
    }
   ],
   "source": [
    "model = Sequential()\n",
    "model.add(Conv2D(32,3,padding=\"same\", activation=\"relu\", input_shape=(224,224,3)))\n",
    "model.add(MaxPool2D())\n",
    "\n",
    "model.add(Conv2D(32, 3, padding=\"same\", activation=\"relu\"))\n",
    "model.add(MaxPool2D())\n",
    "\n",
    "model.add(Conv2D(64, 3, padding=\"same\", activation=\"relu\"))\n",
    "model.add(MaxPool2D())\n",
    "model.add(Dropout(0.4))\n",
    "\n",
    "model.add(Flatten())\n",
    "model.add(Dense(128,activation=\"relu\"))\n",
    "model.add(Dense(2, activation=\"softmax\"))\n",
    "\n",
    "model.summary()"
   ]
  },
  {
   "cell_type": "code",
   "execution_count": 182,
   "metadata": {},
   "outputs": [
    {
     "name": "stderr",
     "output_type": "stream",
     "text": [
      "/home/fdf7gn/.local/lib/python3.8/site-packages/keras/optimizers/optimizer_v2/adam.py:114: UserWarning: The `lr` argument is deprecated, use `learning_rate` instead.\n",
      "  super().__init__(name, **kwargs)\n"
     ]
    }
   ],
   "source": [
    "opt = Adam(lr=0.000001)\n",
    "model.compile(optimizer = opt , loss = tf.keras.losses.SparseCategoricalCrossentropy(from_logits=True) , metrics = ['accuracy'])"
   ]
  },
  {
   "cell_type": "code",
   "execution_count": 183,
   "metadata": {},
   "outputs": [
    {
     "name": "stdout",
     "output_type": "stream",
     "text": [
      "Epoch 1/300\n"
     ]
    },
    {
     "name": "stderr",
     "output_type": "stream",
     "text": [
      "/home/fdf7gn/.local/lib/python3.8/site-packages/keras/backend.py:5582: UserWarning: \"`sparse_categorical_crossentropy` received `from_logits=True`, but the `output` argument was produced by a Softmax activation and thus does not represent logits. Was this intended?\n",
      "  output, from_logits = _get_logits(\n"
     ]
    },
    {
     "name": "stdout",
     "output_type": "stream",
     "text": [
      "20/20 [==============================] - 7s 326ms/step - loss: 0.6960 - accuracy: 0.5347 - val_loss: 0.6830 - val_accuracy: 0.5488\n",
      "Epoch 2/300\n",
      "20/20 [==============================] - 6s 319ms/step - loss: 0.6862 - accuracy: 0.5379 - val_loss: 0.6810 - val_accuracy: 0.5610\n",
      "Epoch 3/300\n",
      "20/20 [==============================] - 6s 315ms/step - loss: 0.6889 - accuracy: 0.5457 - val_loss: 0.6797 - val_accuracy: 0.5976\n",
      "Epoch 4/300\n",
      "20/20 [==============================] - 6s 305ms/step - loss: 0.6895 - accuracy: 0.5584 - val_loss: 0.6775 - val_accuracy: 0.5976\n",
      "Epoch 5/300\n",
      "20/20 [==============================] - 6s 311ms/step - loss: 0.6831 - accuracy: 0.5473 - val_loss: 0.6755 - val_accuracy: 0.6098\n",
      "Epoch 6/300\n",
      "20/20 [==============================] - 6s 309ms/step - loss: 0.6796 - accuracy: 0.5962 - val_loss: 0.6738 - val_accuracy: 0.6220\n",
      "Epoch 7/300\n",
      "20/20 [==============================] - 6s 306ms/step - loss: 0.6787 - accuracy: 0.6088 - val_loss: 0.6716 - val_accuracy: 0.5976\n",
      "Epoch 8/300\n",
      "20/20 [==============================] - 6s 305ms/step - loss: 0.6775 - accuracy: 0.5868 - val_loss: 0.6698 - val_accuracy: 0.6098\n",
      "Epoch 9/300\n",
      "20/20 [==============================] - 6s 304ms/step - loss: 0.6749 - accuracy: 0.6025 - val_loss: 0.6677 - val_accuracy: 0.6098\n",
      "Epoch 10/300\n",
      "20/20 [==============================] - 6s 307ms/step - loss: 0.6671 - accuracy: 0.6246 - val_loss: 0.6660 - val_accuracy: 0.6220\n",
      "Epoch 11/300\n",
      "20/20 [==============================] - 6s 303ms/step - loss: 0.6719 - accuracy: 0.6136 - val_loss: 0.6639 - val_accuracy: 0.6098\n",
      "Epoch 12/300\n",
      "20/20 [==============================] - 6s 303ms/step - loss: 0.6736 - accuracy: 0.6025 - val_loss: 0.6624 - val_accuracy: 0.6341\n",
      "Epoch 13/300\n",
      "20/20 [==============================] - 6s 303ms/step - loss: 0.6676 - accuracy: 0.6388 - val_loss: 0.6609 - val_accuracy: 0.6341\n",
      "Epoch 14/300\n",
      "20/20 [==============================] - 6s 306ms/step - loss: 0.6621 - accuracy: 0.6356 - val_loss: 0.6590 - val_accuracy: 0.6341\n",
      "Epoch 15/300\n",
      "20/20 [==============================] - 6s 311ms/step - loss: 0.6610 - accuracy: 0.6372 - val_loss: 0.6570 - val_accuracy: 0.6098\n",
      "Epoch 16/300\n",
      "20/20 [==============================] - 6s 305ms/step - loss: 0.6640 - accuracy: 0.6372 - val_loss: 0.6553 - val_accuracy: 0.6585\n",
      "Epoch 17/300\n",
      "20/20 [==============================] - 6s 306ms/step - loss: 0.6604 - accuracy: 0.6388 - val_loss: 0.6536 - val_accuracy: 0.6585\n",
      "Epoch 18/300\n",
      "20/20 [==============================] - 6s 304ms/step - loss: 0.6558 - accuracy: 0.6404 - val_loss: 0.6515 - val_accuracy: 0.6463\n",
      "Epoch 19/300\n",
      "20/20 [==============================] - 6s 308ms/step - loss: 0.6575 - accuracy: 0.6309 - val_loss: 0.6497 - val_accuracy: 0.6585\n",
      "Epoch 20/300\n",
      "20/20 [==============================] - 6s 306ms/step - loss: 0.6496 - accuracy: 0.6562 - val_loss: 0.6479 - val_accuracy: 0.6585\n",
      "Epoch 21/300\n",
      "20/20 [==============================] - 6s 305ms/step - loss: 0.6488 - accuracy: 0.6498 - val_loss: 0.6460 - val_accuracy: 0.6341\n",
      "Epoch 22/300\n",
      "20/20 [==============================] - 6s 306ms/step - loss: 0.6506 - accuracy: 0.6798 - val_loss: 0.6442 - val_accuracy: 0.6463\n",
      "Epoch 23/300\n",
      "20/20 [==============================] - 6s 308ms/step - loss: 0.6483 - accuracy: 0.6467 - val_loss: 0.6430 - val_accuracy: 0.6829\n",
      "Epoch 24/300\n",
      "20/20 [==============================] - 6s 308ms/step - loss: 0.6478 - accuracy: 0.6546 - val_loss: 0.6410 - val_accuracy: 0.6829\n",
      "Epoch 25/300\n",
      "20/20 [==============================] - 6s 307ms/step - loss: 0.6477 - accuracy: 0.6609 - val_loss: 0.6392 - val_accuracy: 0.6463\n",
      "Epoch 26/300\n",
      "20/20 [==============================] - 6s 308ms/step - loss: 0.6464 - accuracy: 0.6530 - val_loss: 0.6386 - val_accuracy: 0.6951\n",
      "Epoch 27/300\n",
      "20/20 [==============================] - 6s 303ms/step - loss: 0.6417 - accuracy: 0.6467 - val_loss: 0.6364 - val_accuracy: 0.6829\n",
      "Epoch 28/300\n",
      "20/20 [==============================] - 6s 307ms/step - loss: 0.6360 - accuracy: 0.6593 - val_loss: 0.6349 - val_accuracy: 0.6341\n",
      "Epoch 29/300\n",
      "20/20 [==============================] - 6s 304ms/step - loss: 0.6375 - accuracy: 0.6625 - val_loss: 0.6336 - val_accuracy: 0.6829\n",
      "Epoch 30/300\n",
      "20/20 [==============================] - 6s 305ms/step - loss: 0.6393 - accuracy: 0.6562 - val_loss: 0.6330 - val_accuracy: 0.6829\n",
      "Epoch 31/300\n",
      "20/20 [==============================] - 6s 305ms/step - loss: 0.6315 - accuracy: 0.6593 - val_loss: 0.6311 - val_accuracy: 0.6829\n",
      "Epoch 32/300\n",
      "20/20 [==============================] - 6s 313ms/step - loss: 0.6300 - accuracy: 0.6625 - val_loss: 0.6298 - val_accuracy: 0.6829\n",
      "Epoch 33/300\n",
      "20/20 [==============================] - 6s 310ms/step - loss: 0.6304 - accuracy: 0.6640 - val_loss: 0.6288 - val_accuracy: 0.6951\n",
      "Epoch 34/300\n",
      "20/20 [==============================] - 6s 315ms/step - loss: 0.6292 - accuracy: 0.6719 - val_loss: 0.6283 - val_accuracy: 0.6829\n",
      "Epoch 35/300\n",
      "20/20 [==============================] - 6s 310ms/step - loss: 0.6296 - accuracy: 0.6798 - val_loss: 0.6261 - val_accuracy: 0.6951\n",
      "Epoch 36/300\n",
      "20/20 [==============================] - 6s 314ms/step - loss: 0.6209 - accuracy: 0.6625 - val_loss: 0.6261 - val_accuracy: 0.6707\n",
      "Epoch 37/300\n",
      "20/20 [==============================] - 6s 312ms/step - loss: 0.6252 - accuracy: 0.6577 - val_loss: 0.6237 - val_accuracy: 0.6951\n",
      "Epoch 38/300\n",
      "20/20 [==============================] - 6s 303ms/step - loss: 0.6253 - accuracy: 0.6751 - val_loss: 0.6223 - val_accuracy: 0.6951\n",
      "Epoch 39/300\n",
      "20/20 [==============================] - 6s 306ms/step - loss: 0.6160 - accuracy: 0.6767 - val_loss: 0.6227 - val_accuracy: 0.6707\n",
      "Epoch 40/300\n",
      "20/20 [==============================] - 6s 305ms/step - loss: 0.6186 - accuracy: 0.6609 - val_loss: 0.6213 - val_accuracy: 0.6829\n",
      "Epoch 41/300\n",
      "20/20 [==============================] - 6s 306ms/step - loss: 0.6155 - accuracy: 0.6782 - val_loss: 0.6195 - val_accuracy: 0.6829\n",
      "Epoch 42/300\n",
      "20/20 [==============================] - 6s 314ms/step - loss: 0.6153 - accuracy: 0.6751 - val_loss: 0.6181 - val_accuracy: 0.6951\n",
      "Epoch 43/300\n",
      "20/20 [==============================] - 6s 307ms/step - loss: 0.6080 - accuracy: 0.6861 - val_loss: 0.6173 - val_accuracy: 0.6829\n",
      "Epoch 44/300\n",
      "20/20 [==============================] - 6s 305ms/step - loss: 0.6086 - accuracy: 0.6782 - val_loss: 0.6156 - val_accuracy: 0.6951\n",
      "Epoch 45/300\n",
      "20/20 [==============================] - 6s 305ms/step - loss: 0.6136 - accuracy: 0.6625 - val_loss: 0.6156 - val_accuracy: 0.6829\n",
      "Epoch 46/300\n",
      "20/20 [==============================] - 6s 309ms/step - loss: 0.6143 - accuracy: 0.6672 - val_loss: 0.6138 - val_accuracy: 0.6829\n",
      "Epoch 47/300\n",
      "20/20 [==============================] - 6s 304ms/step - loss: 0.6019 - accuracy: 0.6972 - val_loss: 0.6135 - val_accuracy: 0.6829\n",
      "Epoch 48/300\n",
      "20/20 [==============================] - 6s 303ms/step - loss: 0.6066 - accuracy: 0.6893 - val_loss: 0.6125 - val_accuracy: 0.6951\n",
      "Epoch 49/300\n",
      "20/20 [==============================] - 6s 304ms/step - loss: 0.6021 - accuracy: 0.7098 - val_loss: 0.6107 - val_accuracy: 0.6829\n",
      "Epoch 50/300\n",
      "20/20 [==============================] - 6s 305ms/step - loss: 0.6035 - accuracy: 0.6909 - val_loss: 0.6104 - val_accuracy: 0.6951\n",
      "Epoch 51/300\n",
      "20/20 [==============================] - 6s 308ms/step - loss: 0.5923 - accuracy: 0.7003 - val_loss: 0.6094 - val_accuracy: 0.6951\n",
      "Epoch 52/300\n",
      "20/20 [==============================] - 6s 307ms/step - loss: 0.5952 - accuracy: 0.6924 - val_loss: 0.6074 - val_accuracy: 0.7073\n",
      "Epoch 53/300\n",
      "20/20 [==============================] - 6s 310ms/step - loss: 0.5981 - accuracy: 0.6877 - val_loss: 0.6063 - val_accuracy: 0.6951\n",
      "Epoch 54/300\n",
      "20/20 [==============================] - 6s 311ms/step - loss: 0.5935 - accuracy: 0.6924 - val_loss: 0.6057 - val_accuracy: 0.7195\n",
      "Epoch 55/300\n",
      "20/20 [==============================] - 6s 308ms/step - loss: 0.5856 - accuracy: 0.7019 - val_loss: 0.6050 - val_accuracy: 0.7195\n",
      "Epoch 56/300\n",
      "20/20 [==============================] - 6s 308ms/step - loss: 0.5904 - accuracy: 0.7082 - val_loss: 0.6040 - val_accuracy: 0.7195\n",
      "Epoch 57/300\n",
      "20/20 [==============================] - 6s 307ms/step - loss: 0.5958 - accuracy: 0.6956 - val_loss: 0.6034 - val_accuracy: 0.7195\n",
      "Epoch 58/300\n",
      "20/20 [==============================] - 6s 306ms/step - loss: 0.5853 - accuracy: 0.7050 - val_loss: 0.6021 - val_accuracy: 0.7073\n",
      "Epoch 59/300\n",
      "20/20 [==============================] - 6s 306ms/step - loss: 0.5836 - accuracy: 0.7003 - val_loss: 0.6012 - val_accuracy: 0.7195\n",
      "Epoch 60/300\n",
      "20/20 [==============================] - 6s 305ms/step - loss: 0.5812 - accuracy: 0.7114 - val_loss: 0.6010 - val_accuracy: 0.7317\n",
      "Epoch 61/300\n",
      "20/20 [==============================] - 6s 318ms/step - loss: 0.5761 - accuracy: 0.7256 - val_loss: 0.5998 - val_accuracy: 0.7195\n",
      "Epoch 62/300\n",
      "20/20 [==============================] - 6s 308ms/step - loss: 0.5847 - accuracy: 0.6940 - val_loss: 0.5988 - val_accuracy: 0.7195\n",
      "Epoch 63/300\n",
      "20/20 [==============================] - 6s 309ms/step - loss: 0.5764 - accuracy: 0.7161 - val_loss: 0.5982 - val_accuracy: 0.7195\n",
      "Epoch 64/300\n",
      "20/20 [==============================] - 6s 306ms/step - loss: 0.5820 - accuracy: 0.6940 - val_loss: 0.5975 - val_accuracy: 0.7317\n",
      "Epoch 65/300\n",
      "20/20 [==============================] - 6s 305ms/step - loss: 0.5796 - accuracy: 0.7208 - val_loss: 0.5965 - val_accuracy: 0.7073\n",
      "Epoch 66/300\n",
      "20/20 [==============================] - 6s 310ms/step - loss: 0.5773 - accuracy: 0.7161 - val_loss: 0.5965 - val_accuracy: 0.7317\n",
      "Epoch 67/300\n",
      "20/20 [==============================] - 6s 310ms/step - loss: 0.5704 - accuracy: 0.7224 - val_loss: 0.5949 - val_accuracy: 0.7073\n",
      "Epoch 68/300\n",
      "20/20 [==============================] - 6s 306ms/step - loss: 0.5722 - accuracy: 0.7019 - val_loss: 0.5948 - val_accuracy: 0.7317\n",
      "Epoch 69/300\n",
      "20/20 [==============================] - 6s 309ms/step - loss: 0.5746 - accuracy: 0.7082 - val_loss: 0.5938 - val_accuracy: 0.7073\n",
      "Epoch 70/300\n",
      "20/20 [==============================] - 6s 309ms/step - loss: 0.5700 - accuracy: 0.7208 - val_loss: 0.5938 - val_accuracy: 0.7317\n",
      "Epoch 71/300\n",
      "20/20 [==============================] - 6s 316ms/step - loss: 0.5698 - accuracy: 0.7019 - val_loss: 0.5923 - val_accuracy: 0.7073\n",
      "Epoch 72/300\n",
      "20/20 [==============================] - 7s 327ms/step - loss: 0.5669 - accuracy: 0.7145 - val_loss: 0.5918 - val_accuracy: 0.7439\n",
      "Epoch 73/300\n",
      "20/20 [==============================] - 6s 322ms/step - loss: 0.5689 - accuracy: 0.7177 - val_loss: 0.5916 - val_accuracy: 0.7439\n",
      "Epoch 74/300\n",
      "20/20 [==============================] - 6s 311ms/step - loss: 0.5686 - accuracy: 0.7145 - val_loss: 0.5904 - val_accuracy: 0.7317\n",
      "Epoch 75/300\n",
      "20/20 [==============================] - 6s 307ms/step - loss: 0.5624 - accuracy: 0.7319 - val_loss: 0.5902 - val_accuracy: 0.7439\n",
      "Epoch 76/300\n",
      "20/20 [==============================] - 6s 308ms/step - loss: 0.5658 - accuracy: 0.7161 - val_loss: 0.5892 - val_accuracy: 0.7073\n",
      "Epoch 77/300\n",
      "20/20 [==============================] - 6s 309ms/step - loss: 0.5614 - accuracy: 0.7382 - val_loss: 0.5891 - val_accuracy: 0.7561\n",
      "Epoch 78/300\n",
      "20/20 [==============================] - 6s 320ms/step - loss: 0.5576 - accuracy: 0.7192 - val_loss: 0.5879 - val_accuracy: 0.7073\n",
      "Epoch 79/300\n",
      "20/20 [==============================] - 6s 321ms/step - loss: 0.5591 - accuracy: 0.7382 - val_loss: 0.5879 - val_accuracy: 0.7683\n",
      "Epoch 80/300\n",
      "20/20 [==============================] - 6s 309ms/step - loss: 0.5628 - accuracy: 0.7098 - val_loss: 0.5866 - val_accuracy: 0.7439\n",
      "Epoch 81/300\n",
      "20/20 [==============================] - 6s 305ms/step - loss: 0.5566 - accuracy: 0.7240 - val_loss: 0.5859 - val_accuracy: 0.7439\n",
      "Epoch 82/300\n",
      "20/20 [==============================] - 6s 308ms/step - loss: 0.5557 - accuracy: 0.7287 - val_loss: 0.5853 - val_accuracy: 0.7439\n",
      "Epoch 83/300\n",
      "20/20 [==============================] - 6s 306ms/step - loss: 0.5582 - accuracy: 0.7303 - val_loss: 0.5848 - val_accuracy: 0.7439\n",
      "Epoch 84/300\n",
      "20/20 [==============================] - 6s 310ms/step - loss: 0.5510 - accuracy: 0.7397 - val_loss: 0.5842 - val_accuracy: 0.7439\n",
      "Epoch 85/300\n",
      "20/20 [==============================] - 6s 311ms/step - loss: 0.5488 - accuracy: 0.7413 - val_loss: 0.5836 - val_accuracy: 0.7439\n",
      "Epoch 86/300\n",
      "20/20 [==============================] - 6s 325ms/step - loss: 0.5485 - accuracy: 0.7334 - val_loss: 0.5832 - val_accuracy: 0.7561\n",
      "Epoch 87/300\n",
      "20/20 [==============================] - 6s 308ms/step - loss: 0.5539 - accuracy: 0.7366 - val_loss: 0.5826 - val_accuracy: 0.7561\n",
      "Epoch 88/300\n",
      "20/20 [==============================] - 6s 311ms/step - loss: 0.5408 - accuracy: 0.7429 - val_loss: 0.5824 - val_accuracy: 0.7683\n",
      "Epoch 89/300\n",
      "20/20 [==============================] - 6s 310ms/step - loss: 0.5489 - accuracy: 0.7508 - val_loss: 0.5815 - val_accuracy: 0.7561\n",
      "Epoch 90/300\n",
      "20/20 [==============================] - 6s 313ms/step - loss: 0.5421 - accuracy: 0.7382 - val_loss: 0.5811 - val_accuracy: 0.7439\n",
      "Epoch 91/300\n",
      "20/20 [==============================] - 7s 326ms/step - loss: 0.5485 - accuracy: 0.7508 - val_loss: 0.5813 - val_accuracy: 0.7683\n",
      "Epoch 92/300\n",
      "20/20 [==============================] - 6s 313ms/step - loss: 0.5416 - accuracy: 0.7634 - val_loss: 0.5800 - val_accuracy: 0.7561\n",
      "Epoch 93/300\n",
      "20/20 [==============================] - 6s 308ms/step - loss: 0.5402 - accuracy: 0.7476 - val_loss: 0.5797 - val_accuracy: 0.7683\n",
      "Epoch 94/300\n",
      "20/20 [==============================] - 6s 314ms/step - loss: 0.5440 - accuracy: 0.7413 - val_loss: 0.5791 - val_accuracy: 0.7683\n",
      "Epoch 95/300\n",
      "20/20 [==============================] - 7s 326ms/step - loss: 0.5406 - accuracy: 0.7382 - val_loss: 0.5785 - val_accuracy: 0.7561\n",
      "Epoch 96/300\n",
      "20/20 [==============================] - 6s 312ms/step - loss: 0.5406 - accuracy: 0.7445 - val_loss: 0.5779 - val_accuracy: 0.7683\n",
      "Epoch 97/300\n",
      "20/20 [==============================] - 6s 308ms/step - loss: 0.5383 - accuracy: 0.7539 - val_loss: 0.5778 - val_accuracy: 0.7683\n",
      "Epoch 98/300\n",
      "20/20 [==============================] - 6s 309ms/step - loss: 0.5351 - accuracy: 0.7603 - val_loss: 0.5769 - val_accuracy: 0.7683\n",
      "Epoch 99/300\n",
      "20/20 [==============================] - 6s 310ms/step - loss: 0.5332 - accuracy: 0.7524 - val_loss: 0.5766 - val_accuracy: 0.7561\n",
      "Epoch 100/300\n",
      "20/20 [==============================] - 6s 305ms/step - loss: 0.5368 - accuracy: 0.7524 - val_loss: 0.5767 - val_accuracy: 0.7683\n",
      "Epoch 101/300\n",
      "20/20 [==============================] - 6s 309ms/step - loss: 0.5377 - accuracy: 0.7366 - val_loss: 0.5757 - val_accuracy: 0.7561\n",
      "Epoch 102/300\n",
      "20/20 [==============================] - 6s 314ms/step - loss: 0.5360 - accuracy: 0.7539 - val_loss: 0.5752 - val_accuracy: 0.7683\n",
      "Epoch 103/300\n",
      "20/20 [==============================] - 6s 309ms/step - loss: 0.5263 - accuracy: 0.7666 - val_loss: 0.5745 - val_accuracy: 0.7683\n",
      "Epoch 104/300\n",
      "20/20 [==============================] - 6s 308ms/step - loss: 0.5307 - accuracy: 0.7524 - val_loss: 0.5741 - val_accuracy: 0.7683\n",
      "Epoch 105/300\n",
      "20/20 [==============================] - 6s 308ms/step - loss: 0.5245 - accuracy: 0.7650 - val_loss: 0.5738 - val_accuracy: 0.7683\n",
      "Epoch 106/300\n",
      "20/20 [==============================] - 6s 305ms/step - loss: 0.5264 - accuracy: 0.7382 - val_loss: 0.5735 - val_accuracy: 0.7683\n",
      "Epoch 107/300\n",
      "20/20 [==============================] - 6s 316ms/step - loss: 0.5320 - accuracy: 0.7508 - val_loss: 0.5733 - val_accuracy: 0.7683\n",
      "Epoch 108/300\n",
      "20/20 [==============================] - 6s 315ms/step - loss: 0.5229 - accuracy: 0.7744 - val_loss: 0.5726 - val_accuracy: 0.7683\n",
      "Epoch 109/300\n",
      "20/20 [==============================] - 6s 314ms/step - loss: 0.5215 - accuracy: 0.7603 - val_loss: 0.5721 - val_accuracy: 0.7683\n",
      "Epoch 110/300\n",
      "20/20 [==============================] - 6s 315ms/step - loss: 0.5270 - accuracy: 0.7571 - val_loss: 0.5716 - val_accuracy: 0.7683\n",
      "Epoch 111/300\n",
      "20/20 [==============================] - 6s 305ms/step - loss: 0.5253 - accuracy: 0.7587 - val_loss: 0.5713 - val_accuracy: 0.7683\n",
      "Epoch 112/300\n",
      "20/20 [==============================] - 6s 317ms/step - loss: 0.5204 - accuracy: 0.7571 - val_loss: 0.5707 - val_accuracy: 0.7683\n",
      "Epoch 113/300\n",
      "20/20 [==============================] - 6s 307ms/step - loss: 0.5154 - accuracy: 0.7760 - val_loss: 0.5703 - val_accuracy: 0.7683\n",
      "Epoch 114/300\n",
      "20/20 [==============================] - 6s 310ms/step - loss: 0.5139 - accuracy: 0.7729 - val_loss: 0.5701 - val_accuracy: 0.7683\n",
      "Epoch 115/300\n",
      "20/20 [==============================] - 6s 309ms/step - loss: 0.5188 - accuracy: 0.7587 - val_loss: 0.5697 - val_accuracy: 0.7683\n",
      "Epoch 116/300\n",
      "20/20 [==============================] - 6s 311ms/step - loss: 0.5206 - accuracy: 0.7618 - val_loss: 0.5694 - val_accuracy: 0.7683\n",
      "Epoch 117/300\n",
      "20/20 [==============================] - 6s 315ms/step - loss: 0.5184 - accuracy: 0.7697 - val_loss: 0.5692 - val_accuracy: 0.7561\n",
      "Epoch 118/300\n",
      "20/20 [==============================] - 6s 312ms/step - loss: 0.5153 - accuracy: 0.7681 - val_loss: 0.5685 - val_accuracy: 0.7683\n",
      "Epoch 119/300\n",
      "20/20 [==============================] - 6s 312ms/step - loss: 0.5153 - accuracy: 0.7587 - val_loss: 0.5679 - val_accuracy: 0.7683\n",
      "Epoch 120/300\n",
      "20/20 [==============================] - 6s 311ms/step - loss: 0.5105 - accuracy: 0.7808 - val_loss: 0.5675 - val_accuracy: 0.7683\n",
      "Epoch 121/300\n",
      "20/20 [==============================] - 6s 310ms/step - loss: 0.5105 - accuracy: 0.7666 - val_loss: 0.5674 - val_accuracy: 0.7683\n",
      "Epoch 122/300\n",
      "20/20 [==============================] - 6s 323ms/step - loss: 0.5120 - accuracy: 0.7666 - val_loss: 0.5669 - val_accuracy: 0.7683\n",
      "Epoch 123/300\n",
      "20/20 [==============================] - 6s 308ms/step - loss: 0.5129 - accuracy: 0.7666 - val_loss: 0.5661 - val_accuracy: 0.7683\n",
      "Epoch 124/300\n",
      "20/20 [==============================] - 6s 305ms/step - loss: 0.5128 - accuracy: 0.7681 - val_loss: 0.5657 - val_accuracy: 0.7683\n",
      "Epoch 125/300\n",
      "20/20 [==============================] - 6s 311ms/step - loss: 0.5066 - accuracy: 0.7823 - val_loss: 0.5654 - val_accuracy: 0.7561\n",
      "Epoch 126/300\n",
      "20/20 [==============================] - 6s 308ms/step - loss: 0.5128 - accuracy: 0.7539 - val_loss: 0.5650 - val_accuracy: 0.7439\n",
      "Epoch 127/300\n",
      "20/20 [==============================] - 6s 309ms/step - loss: 0.5103 - accuracy: 0.7776 - val_loss: 0.5645 - val_accuracy: 0.7439\n",
      "Epoch 128/300\n",
      "20/20 [==============================] - 6s 312ms/step - loss: 0.5038 - accuracy: 0.7744 - val_loss: 0.5640 - val_accuracy: 0.7683\n",
      "Epoch 129/300\n",
      "20/20 [==============================] - 6s 321ms/step - loss: 0.5148 - accuracy: 0.7571 - val_loss: 0.5637 - val_accuracy: 0.7439\n",
      "Epoch 130/300\n",
      "20/20 [==============================] - 6s 309ms/step - loss: 0.5161 - accuracy: 0.7681 - val_loss: 0.5636 - val_accuracy: 0.7317\n",
      "Epoch 131/300\n",
      "20/20 [==============================] - 6s 324ms/step - loss: 0.5084 - accuracy: 0.7634 - val_loss: 0.5626 - val_accuracy: 0.7439\n",
      "Epoch 132/300\n",
      "20/20 [==============================] - 7s 326ms/step - loss: 0.5066 - accuracy: 0.7729 - val_loss: 0.5624 - val_accuracy: 0.7439\n",
      "Epoch 133/300\n",
      "20/20 [==============================] - 6s 314ms/step - loss: 0.5003 - accuracy: 0.7886 - val_loss: 0.5619 - val_accuracy: 0.7561\n",
      "Epoch 134/300\n",
      "20/20 [==============================] - 6s 312ms/step - loss: 0.4999 - accuracy: 0.7839 - val_loss: 0.5615 - val_accuracy: 0.7439\n",
      "Epoch 135/300\n",
      "20/20 [==============================] - 6s 309ms/step - loss: 0.5012 - accuracy: 0.7808 - val_loss: 0.5610 - val_accuracy: 0.7439\n",
      "Epoch 136/300\n",
      "20/20 [==============================] - 6s 311ms/step - loss: 0.5006 - accuracy: 0.7744 - val_loss: 0.5607 - val_accuracy: 0.7439\n",
      "Epoch 137/300\n",
      "20/20 [==============================] - 6s 307ms/step - loss: 0.4970 - accuracy: 0.7855 - val_loss: 0.5602 - val_accuracy: 0.7439\n",
      "Epoch 138/300\n",
      "20/20 [==============================] - 6s 307ms/step - loss: 0.4864 - accuracy: 0.7934 - val_loss: 0.5598 - val_accuracy: 0.7439\n",
      "Epoch 139/300\n",
      "20/20 [==============================] - 6s 305ms/step - loss: 0.4921 - accuracy: 0.7744 - val_loss: 0.5592 - val_accuracy: 0.7439\n",
      "Epoch 140/300\n",
      "20/20 [==============================] - 6s 305ms/step - loss: 0.4947 - accuracy: 0.7855 - val_loss: 0.5589 - val_accuracy: 0.7561\n",
      "Epoch 141/300\n",
      "20/20 [==============================] - 6s 309ms/step - loss: 0.4988 - accuracy: 0.7776 - val_loss: 0.5585 - val_accuracy: 0.7561\n",
      "Epoch 142/300\n",
      "20/20 [==============================] - 6s 305ms/step - loss: 0.4953 - accuracy: 0.7839 - val_loss: 0.5580 - val_accuracy: 0.7439\n",
      "Epoch 143/300\n",
      "20/20 [==============================] - 6s 308ms/step - loss: 0.4912 - accuracy: 0.7855 - val_loss: 0.5578 - val_accuracy: 0.7561\n",
      "Epoch 144/300\n",
      "20/20 [==============================] - 6s 307ms/step - loss: 0.4964 - accuracy: 0.7792 - val_loss: 0.5570 - val_accuracy: 0.7439\n",
      "Epoch 145/300\n",
      "20/20 [==============================] - 6s 310ms/step - loss: 0.4968 - accuracy: 0.7918 - val_loss: 0.5571 - val_accuracy: 0.7439\n",
      "Epoch 146/300\n",
      "20/20 [==============================] - 6s 309ms/step - loss: 0.4920 - accuracy: 0.7839 - val_loss: 0.5565 - val_accuracy: 0.7561\n",
      "Epoch 147/300\n",
      "20/20 [==============================] - 6s 307ms/step - loss: 0.4933 - accuracy: 0.7744 - val_loss: 0.5561 - val_accuracy: 0.7439\n",
      "Epoch 148/300\n",
      "20/20 [==============================] - 6s 309ms/step - loss: 0.4859 - accuracy: 0.7997 - val_loss: 0.5554 - val_accuracy: 0.7439\n",
      "Epoch 149/300\n",
      "20/20 [==============================] - 6s 308ms/step - loss: 0.4955 - accuracy: 0.7808 - val_loss: 0.5550 - val_accuracy: 0.7439\n",
      "Epoch 150/300\n",
      "20/20 [==============================] - 6s 322ms/step - loss: 0.4874 - accuracy: 0.7886 - val_loss: 0.5545 - val_accuracy: 0.7561\n",
      "Epoch 151/300\n",
      "20/20 [==============================] - 6s 324ms/step - loss: 0.4875 - accuracy: 0.7918 - val_loss: 0.5554 - val_accuracy: 0.7561\n",
      "Epoch 152/300\n",
      "20/20 [==============================] - 6s 312ms/step - loss: 0.4822 - accuracy: 0.7855 - val_loss: 0.5539 - val_accuracy: 0.7439\n",
      "Epoch 153/300\n",
      "20/20 [==============================] - 6s 306ms/step - loss: 0.4834 - accuracy: 0.7902 - val_loss: 0.5535 - val_accuracy: 0.7439\n",
      "Epoch 154/300\n",
      "20/20 [==============================] - 6s 307ms/step - loss: 0.4906 - accuracy: 0.7855 - val_loss: 0.5529 - val_accuracy: 0.7439\n",
      "Epoch 155/300\n",
      "20/20 [==============================] - 6s 308ms/step - loss: 0.4808 - accuracy: 0.7886 - val_loss: 0.5524 - val_accuracy: 0.7439\n",
      "Epoch 156/300\n",
      "20/20 [==============================] - 6s 312ms/step - loss: 0.4815 - accuracy: 0.7950 - val_loss: 0.5522 - val_accuracy: 0.7561\n",
      "Epoch 157/300\n",
      "20/20 [==============================] - 6s 312ms/step - loss: 0.4872 - accuracy: 0.7823 - val_loss: 0.5516 - val_accuracy: 0.7561\n",
      "Epoch 158/300\n",
      "20/20 [==============================] - 6s 310ms/step - loss: 0.4789 - accuracy: 0.7981 - val_loss: 0.5510 - val_accuracy: 0.7439\n",
      "Epoch 159/300\n",
      "20/20 [==============================] - 6s 306ms/step - loss: 0.4811 - accuracy: 0.7902 - val_loss: 0.5505 - val_accuracy: 0.7439\n",
      "Epoch 160/300\n",
      "20/20 [==============================] - 6s 308ms/step - loss: 0.4805 - accuracy: 0.7934 - val_loss: 0.5500 - val_accuracy: 0.7439\n",
      "Epoch 161/300\n",
      "20/20 [==============================] - 6s 308ms/step - loss: 0.4723 - accuracy: 0.8044 - val_loss: 0.5500 - val_accuracy: 0.7561\n",
      "Epoch 162/300\n",
      "20/20 [==============================] - 6s 314ms/step - loss: 0.4747 - accuracy: 0.7871 - val_loss: 0.5495 - val_accuracy: 0.7561\n",
      "Epoch 163/300\n",
      "20/20 [==============================] - 6s 319ms/step - loss: 0.4779 - accuracy: 0.8060 - val_loss: 0.5489 - val_accuracy: 0.7561\n",
      "Epoch 164/300\n",
      "20/20 [==============================] - 6s 314ms/step - loss: 0.4813 - accuracy: 0.7950 - val_loss: 0.5488 - val_accuracy: 0.7561\n",
      "Epoch 165/300\n",
      "20/20 [==============================] - 6s 325ms/step - loss: 0.4782 - accuracy: 0.8013 - val_loss: 0.5486 - val_accuracy: 0.7561\n",
      "Epoch 166/300\n",
      "20/20 [==============================] - 6s 312ms/step - loss: 0.4737 - accuracy: 0.7934 - val_loss: 0.5484 - val_accuracy: 0.7561\n",
      "Epoch 167/300\n",
      "20/20 [==============================] - 6s 308ms/step - loss: 0.4776 - accuracy: 0.7871 - val_loss: 0.5479 - val_accuracy: 0.7561\n",
      "Epoch 168/300\n",
      "20/20 [==============================] - 6s 308ms/step - loss: 0.4720 - accuracy: 0.7965 - val_loss: 0.5471 - val_accuracy: 0.7561\n",
      "Epoch 169/300\n",
      "20/20 [==============================] - 6s 306ms/step - loss: 0.4687 - accuracy: 0.8044 - val_loss: 0.5467 - val_accuracy: 0.7561\n",
      "Epoch 170/300\n",
      "20/20 [==============================] - 6s 307ms/step - loss: 0.4689 - accuracy: 0.7950 - val_loss: 0.5468 - val_accuracy: 0.7561\n",
      "Epoch 171/300\n",
      "20/20 [==============================] - 6s 309ms/step - loss: 0.4721 - accuracy: 0.7965 - val_loss: 0.5463 - val_accuracy: 0.7561\n",
      "Epoch 172/300\n",
      "20/20 [==============================] - 6s 312ms/step - loss: 0.4696 - accuracy: 0.8013 - val_loss: 0.5458 - val_accuracy: 0.7561\n",
      "Epoch 173/300\n",
      "20/20 [==============================] - 6s 307ms/step - loss: 0.4697 - accuracy: 0.8044 - val_loss: 0.5454 - val_accuracy: 0.7683\n",
      "Epoch 174/300\n",
      "20/20 [==============================] - 6s 313ms/step - loss: 0.4693 - accuracy: 0.7886 - val_loss: 0.5452 - val_accuracy: 0.7683\n",
      "Epoch 175/300\n",
      "20/20 [==============================] - 6s 312ms/step - loss: 0.4721 - accuracy: 0.8139 - val_loss: 0.5442 - val_accuracy: 0.7683\n",
      "Epoch 176/300\n",
      "20/20 [==============================] - 6s 308ms/step - loss: 0.4634 - accuracy: 0.8028 - val_loss: 0.5439 - val_accuracy: 0.7561\n",
      "Epoch 177/300\n",
      "20/20 [==============================] - 6s 306ms/step - loss: 0.4633 - accuracy: 0.8044 - val_loss: 0.5440 - val_accuracy: 0.7561\n",
      "Epoch 178/300\n",
      "20/20 [==============================] - 6s 307ms/step - loss: 0.4654 - accuracy: 0.7886 - val_loss: 0.5437 - val_accuracy: 0.7683\n",
      "Epoch 179/300\n",
      "20/20 [==============================] - 6s 309ms/step - loss: 0.4650 - accuracy: 0.8076 - val_loss: 0.5436 - val_accuracy: 0.7805\n",
      "Epoch 180/300\n",
      "20/20 [==============================] - 6s 309ms/step - loss: 0.4635 - accuracy: 0.8013 - val_loss: 0.5431 - val_accuracy: 0.7805\n",
      "Epoch 181/300\n",
      "20/20 [==============================] - 6s 307ms/step - loss: 0.4555 - accuracy: 0.8123 - val_loss: 0.5427 - val_accuracy: 0.7683\n",
      "Epoch 182/300\n",
      "20/20 [==============================] - 6s 315ms/step - loss: 0.4670 - accuracy: 0.8013 - val_loss: 0.5422 - val_accuracy: 0.7683\n",
      "Epoch 183/300\n",
      "20/20 [==============================] - 6s 323ms/step - loss: 0.4648 - accuracy: 0.8060 - val_loss: 0.5424 - val_accuracy: 0.8049\n",
      "Epoch 184/300\n",
      "20/20 [==============================] - 6s 311ms/step - loss: 0.4651 - accuracy: 0.8091 - val_loss: 0.5413 - val_accuracy: 0.7683\n",
      "Epoch 185/300\n",
      "20/20 [==============================] - 6s 317ms/step - loss: 0.4610 - accuracy: 0.8044 - val_loss: 0.5411 - val_accuracy: 0.7805\n",
      "Epoch 186/300\n",
      "20/20 [==============================] - 6s 309ms/step - loss: 0.4555 - accuracy: 0.8123 - val_loss: 0.5403 - val_accuracy: 0.7805\n",
      "Epoch 187/300\n",
      "20/20 [==============================] - 6s 313ms/step - loss: 0.4529 - accuracy: 0.8123 - val_loss: 0.5402 - val_accuracy: 0.7683\n",
      "Epoch 188/300\n",
      "20/20 [==============================] - 6s 308ms/step - loss: 0.4580 - accuracy: 0.8044 - val_loss: 0.5397 - val_accuracy: 0.7805\n",
      "Epoch 189/300\n",
      "20/20 [==============================] - 6s 309ms/step - loss: 0.4590 - accuracy: 0.8123 - val_loss: 0.5397 - val_accuracy: 0.8049\n",
      "Epoch 190/300\n",
      "20/20 [==============================] - 6s 310ms/step - loss: 0.4529 - accuracy: 0.8107 - val_loss: 0.5389 - val_accuracy: 0.7805\n",
      "Epoch 191/300\n",
      "20/20 [==============================] - 6s 315ms/step - loss: 0.4572 - accuracy: 0.8107 - val_loss: 0.5391 - val_accuracy: 0.8049\n",
      "Epoch 192/300\n",
      "20/20 [==============================] - 6s 310ms/step - loss: 0.4616 - accuracy: 0.8107 - val_loss: 0.5383 - val_accuracy: 0.7683\n",
      "Epoch 193/300\n",
      "20/20 [==============================] - 6s 305ms/step - loss: 0.4553 - accuracy: 0.8107 - val_loss: 0.5379 - val_accuracy: 0.7927\n",
      "Epoch 194/300\n",
      "20/20 [==============================] - 6s 313ms/step - loss: 0.4546 - accuracy: 0.8155 - val_loss: 0.5377 - val_accuracy: 0.8171\n",
      "Epoch 195/300\n",
      "20/20 [==============================] - 6s 313ms/step - loss: 0.4500 - accuracy: 0.8123 - val_loss: 0.5369 - val_accuracy: 0.7927\n",
      "Epoch 196/300\n",
      "20/20 [==============================] - 6s 318ms/step - loss: 0.4489 - accuracy: 0.8091 - val_loss: 0.5366 - val_accuracy: 0.8171\n",
      "Epoch 197/300\n",
      "20/20 [==============================] - 6s 306ms/step - loss: 0.4503 - accuracy: 0.8091 - val_loss: 0.5366 - val_accuracy: 0.8171\n",
      "Epoch 198/300\n",
      "20/20 [==============================] - 6s 314ms/step - loss: 0.4534 - accuracy: 0.8013 - val_loss: 0.5364 - val_accuracy: 0.8171\n",
      "Epoch 199/300\n",
      "20/20 [==============================] - 6s 312ms/step - loss: 0.4473 - accuracy: 0.8155 - val_loss: 0.5361 - val_accuracy: 0.8171\n",
      "Epoch 200/300\n",
      "20/20 [==============================] - 6s 309ms/step - loss: 0.4466 - accuracy: 0.8186 - val_loss: 0.5356 - val_accuracy: 0.7927\n",
      "Epoch 201/300\n",
      "20/20 [==============================] - 6s 311ms/step - loss: 0.4477 - accuracy: 0.8170 - val_loss: 0.5351 - val_accuracy: 0.8293\n",
      "Epoch 202/300\n",
      "20/20 [==============================] - 6s 309ms/step - loss: 0.4515 - accuracy: 0.8218 - val_loss: 0.5343 - val_accuracy: 0.8293\n",
      "Epoch 203/300\n",
      "20/20 [==============================] - 6s 312ms/step - loss: 0.4395 - accuracy: 0.8265 - val_loss: 0.5341 - val_accuracy: 0.8293\n",
      "Epoch 204/300\n",
      "20/20 [==============================] - 6s 311ms/step - loss: 0.4500 - accuracy: 0.8044 - val_loss: 0.5340 - val_accuracy: 0.8171\n",
      "Epoch 205/300\n",
      "20/20 [==============================] - 6s 315ms/step - loss: 0.4431 - accuracy: 0.8186 - val_loss: 0.5335 - val_accuracy: 0.8293\n",
      "Epoch 206/300\n",
      "20/20 [==============================] - 6s 318ms/step - loss: 0.4451 - accuracy: 0.8170 - val_loss: 0.5330 - val_accuracy: 0.7927\n",
      "Epoch 207/300\n",
      "20/20 [==============================] - 6s 316ms/step - loss: 0.4442 - accuracy: 0.8170 - val_loss: 0.5325 - val_accuracy: 0.8415\n",
      "Epoch 208/300\n",
      "20/20 [==============================] - 6s 319ms/step - loss: 0.4412 - accuracy: 0.8297 - val_loss: 0.5325 - val_accuracy: 0.8415\n",
      "Epoch 209/300\n",
      "20/20 [==============================] - 6s 317ms/step - loss: 0.4423 - accuracy: 0.8186 - val_loss: 0.5322 - val_accuracy: 0.8293\n",
      "Epoch 210/300\n",
      "20/20 [==============================] - 6s 307ms/step - loss: 0.4378 - accuracy: 0.8328 - val_loss: 0.5320 - val_accuracy: 0.8415\n",
      "Epoch 211/300\n",
      "20/20 [==============================] - 6s 303ms/step - loss: 0.4417 - accuracy: 0.8249 - val_loss: 0.5321 - val_accuracy: 0.8293\n",
      "Epoch 212/300\n",
      "20/20 [==============================] - 6s 305ms/step - loss: 0.4370 - accuracy: 0.8155 - val_loss: 0.5316 - val_accuracy: 0.8415\n",
      "Epoch 213/300\n",
      "20/20 [==============================] - 6s 320ms/step - loss: 0.4403 - accuracy: 0.8170 - val_loss: 0.5314 - val_accuracy: 0.8293\n",
      "Epoch 214/300\n",
      "20/20 [==============================] - 6s 320ms/step - loss: 0.4397 - accuracy: 0.8249 - val_loss: 0.5302 - val_accuracy: 0.8415\n",
      "Epoch 215/300\n",
      "20/20 [==============================] - 6s 318ms/step - loss: 0.4416 - accuracy: 0.8076 - val_loss: 0.5306 - val_accuracy: 0.8293\n",
      "Epoch 216/300\n",
      "20/20 [==============================] - 6s 317ms/step - loss: 0.4323 - accuracy: 0.8281 - val_loss: 0.5297 - val_accuracy: 0.8415\n",
      "Epoch 217/300\n",
      "20/20 [==============================] - 6s 317ms/step - loss: 0.4326 - accuracy: 0.8360 - val_loss: 0.5292 - val_accuracy: 0.8171\n",
      "Epoch 218/300\n",
      "20/20 [==============================] - 6s 318ms/step - loss: 0.4333 - accuracy: 0.8360 - val_loss: 0.5287 - val_accuracy: 0.8415\n",
      "Epoch 219/300\n",
      "20/20 [==============================] - 6s 322ms/step - loss: 0.4343 - accuracy: 0.8281 - val_loss: 0.5279 - val_accuracy: 0.8415\n",
      "Epoch 220/300\n",
      "20/20 [==============================] - 6s 319ms/step - loss: 0.4322 - accuracy: 0.8170 - val_loss: 0.5280 - val_accuracy: 0.8415\n",
      "Epoch 221/300\n",
      "20/20 [==============================] - 6s 316ms/step - loss: 0.4317 - accuracy: 0.8249 - val_loss: 0.5271 - val_accuracy: 0.8415\n",
      "Epoch 222/300\n",
      "20/20 [==============================] - 6s 302ms/step - loss: 0.4329 - accuracy: 0.8123 - val_loss: 0.5268 - val_accuracy: 0.8415\n",
      "Epoch 223/300\n",
      "20/20 [==============================] - 6s 316ms/step - loss: 0.4277 - accuracy: 0.8218 - val_loss: 0.5269 - val_accuracy: 0.8415\n",
      "Epoch 224/300\n",
      "20/20 [==============================] - 6s 318ms/step - loss: 0.4284 - accuracy: 0.8218 - val_loss: 0.5264 - val_accuracy: 0.8415\n",
      "Epoch 225/300\n",
      "20/20 [==============================] - 6s 319ms/step - loss: 0.4326 - accuracy: 0.8170 - val_loss: 0.5265 - val_accuracy: 0.8293\n",
      "Epoch 226/300\n",
      "20/20 [==============================] - 6s 313ms/step - loss: 0.4290 - accuracy: 0.8265 - val_loss: 0.5257 - val_accuracy: 0.8415\n",
      "Epoch 227/300\n",
      "20/20 [==============================] - 6s 315ms/step - loss: 0.4317 - accuracy: 0.8281 - val_loss: 0.5256 - val_accuracy: 0.8415\n",
      "Epoch 228/300\n",
      "20/20 [==============================] - 6s 318ms/step - loss: 0.4289 - accuracy: 0.8218 - val_loss: 0.5249 - val_accuracy: 0.8415\n",
      "Epoch 229/300\n",
      "20/20 [==============================] - 6s 315ms/step - loss: 0.4280 - accuracy: 0.8281 - val_loss: 0.5248 - val_accuracy: 0.8293\n",
      "Epoch 230/300\n",
      "20/20 [==============================] - 6s 319ms/step - loss: 0.4344 - accuracy: 0.8281 - val_loss: 0.5238 - val_accuracy: 0.8415\n",
      "Epoch 231/300\n",
      "20/20 [==============================] - 6s 315ms/step - loss: 0.4190 - accuracy: 0.8202 - val_loss: 0.5240 - val_accuracy: 0.8293\n",
      "Epoch 232/300\n",
      "20/20 [==============================] - 6s 317ms/step - loss: 0.4247 - accuracy: 0.8312 - val_loss: 0.5231 - val_accuracy: 0.8415\n",
      "Epoch 233/300\n",
      "20/20 [==============================] - 6s 319ms/step - loss: 0.4246 - accuracy: 0.8249 - val_loss: 0.5231 - val_accuracy: 0.8415\n",
      "Epoch 234/300\n",
      "20/20 [==============================] - 6s 315ms/step - loss: 0.4244 - accuracy: 0.8375 - val_loss: 0.5229 - val_accuracy: 0.8415\n",
      "Epoch 235/300\n",
      "20/20 [==============================] - 6s 318ms/step - loss: 0.4185 - accuracy: 0.8344 - val_loss: 0.5225 - val_accuracy: 0.8415\n",
      "Epoch 236/300\n",
      "20/20 [==============================] - 6s 317ms/step - loss: 0.4247 - accuracy: 0.8344 - val_loss: 0.5222 - val_accuracy: 0.8415\n",
      "Epoch 237/300\n",
      "20/20 [==============================] - 6s 323ms/step - loss: 0.4240 - accuracy: 0.8218 - val_loss: 0.5226 - val_accuracy: 0.8293\n",
      "Epoch 238/300\n",
      "20/20 [==============================] - 6s 323ms/step - loss: 0.4188 - accuracy: 0.8312 - val_loss: 0.5221 - val_accuracy: 0.8415\n",
      "Epoch 239/300\n",
      "20/20 [==============================] - 6s 321ms/step - loss: 0.4183 - accuracy: 0.8344 - val_loss: 0.5212 - val_accuracy: 0.8415\n",
      "Epoch 240/300\n",
      "20/20 [==============================] - 6s 321ms/step - loss: 0.4208 - accuracy: 0.8407 - val_loss: 0.5216 - val_accuracy: 0.8293\n",
      "Epoch 241/300\n",
      "20/20 [==============================] - 6s 319ms/step - loss: 0.4221 - accuracy: 0.8233 - val_loss: 0.5206 - val_accuracy: 0.8415\n",
      "Epoch 242/300\n",
      "20/20 [==============================] - 6s 306ms/step - loss: 0.4184 - accuracy: 0.8360 - val_loss: 0.5205 - val_accuracy: 0.8415\n",
      "Epoch 243/300\n",
      "20/20 [==============================] - 6s 306ms/step - loss: 0.4174 - accuracy: 0.8328 - val_loss: 0.5203 - val_accuracy: 0.8537\n",
      "Epoch 244/300\n",
      "20/20 [==============================] - 6s 301ms/step - loss: 0.4111 - accuracy: 0.8407 - val_loss: 0.5198 - val_accuracy: 0.8415\n",
      "Epoch 245/300\n",
      "20/20 [==============================] - 6s 304ms/step - loss: 0.4167 - accuracy: 0.8328 - val_loss: 0.5197 - val_accuracy: 0.8415\n",
      "Epoch 246/300\n",
      "20/20 [==============================] - 6s 304ms/step - loss: 0.4136 - accuracy: 0.8360 - val_loss: 0.5192 - val_accuracy: 0.8415\n",
      "Epoch 247/300\n",
      "20/20 [==============================] - 6s 304ms/step - loss: 0.4120 - accuracy: 0.8312 - val_loss: 0.5190 - val_accuracy: 0.8415\n",
      "Epoch 248/300\n",
      "20/20 [==============================] - 6s 302ms/step - loss: 0.4121 - accuracy: 0.8233 - val_loss: 0.5190 - val_accuracy: 0.8415\n",
      "Epoch 249/300\n",
      "20/20 [==============================] - 6s 301ms/step - loss: 0.4154 - accuracy: 0.8407 - val_loss: 0.5191 - val_accuracy: 0.8415\n",
      "Epoch 250/300\n",
      "20/20 [==============================] - 6s 305ms/step - loss: 0.4146 - accuracy: 0.8297 - val_loss: 0.5188 - val_accuracy: 0.8415\n",
      "Epoch 251/300\n",
      "20/20 [==============================] - 6s 308ms/step - loss: 0.4156 - accuracy: 0.8312 - val_loss: 0.5185 - val_accuracy: 0.8415\n",
      "Epoch 252/300\n",
      "20/20 [==============================] - 6s 302ms/step - loss: 0.4071 - accuracy: 0.8423 - val_loss: 0.5181 - val_accuracy: 0.8415\n",
      "Epoch 253/300\n",
      "20/20 [==============================] - 6s 305ms/step - loss: 0.4097 - accuracy: 0.8438 - val_loss: 0.5178 - val_accuracy: 0.8415\n",
      "Epoch 254/300\n",
      "20/20 [==============================] - 6s 305ms/step - loss: 0.4126 - accuracy: 0.8423 - val_loss: 0.5174 - val_accuracy: 0.8415\n",
      "Epoch 255/300\n",
      "20/20 [==============================] - 6s 304ms/step - loss: 0.4052 - accuracy: 0.8375 - val_loss: 0.5169 - val_accuracy: 0.8537\n",
      "Epoch 256/300\n",
      "20/20 [==============================] - 6s 305ms/step - loss: 0.4121 - accuracy: 0.8375 - val_loss: 0.5170 - val_accuracy: 0.8415\n",
      "Epoch 257/300\n",
      "20/20 [==============================] - 6s 305ms/step - loss: 0.4059 - accuracy: 0.8328 - val_loss: 0.5166 - val_accuracy: 0.8415\n",
      "Epoch 258/300\n",
      "20/20 [==============================] - 6s 305ms/step - loss: 0.4096 - accuracy: 0.8328 - val_loss: 0.5160 - val_accuracy: 0.8537\n",
      "Epoch 259/300\n",
      "20/20 [==============================] - 6s 307ms/step - loss: 0.4117 - accuracy: 0.8297 - val_loss: 0.5156 - val_accuracy: 0.8415\n",
      "Epoch 260/300\n",
      "20/20 [==============================] - 6s 307ms/step - loss: 0.4052 - accuracy: 0.8344 - val_loss: 0.5159 - val_accuracy: 0.8415\n",
      "Epoch 261/300\n",
      "20/20 [==============================] - 6s 320ms/step - loss: 0.4075 - accuracy: 0.8407 - val_loss: 0.5153 - val_accuracy: 0.8415\n",
      "Epoch 262/300\n",
      "20/20 [==============================] - 6s 321ms/step - loss: 0.4041 - accuracy: 0.8391 - val_loss: 0.5148 - val_accuracy: 0.8415\n",
      "Epoch 263/300\n",
      "20/20 [==============================] - 6s 324ms/step - loss: 0.4046 - accuracy: 0.8375 - val_loss: 0.5143 - val_accuracy: 0.8537\n",
      "Epoch 264/300\n",
      "20/20 [==============================] - 6s 321ms/step - loss: 0.4088 - accuracy: 0.8391 - val_loss: 0.5144 - val_accuracy: 0.8415\n",
      "Epoch 265/300\n",
      "20/20 [==============================] - 6s 314ms/step - loss: 0.4030 - accuracy: 0.8470 - val_loss: 0.5139 - val_accuracy: 0.8415\n",
      "Epoch 266/300\n",
      "20/20 [==============================] - 6s 318ms/step - loss: 0.4052 - accuracy: 0.8375 - val_loss: 0.5137 - val_accuracy: 0.8537\n",
      "Epoch 267/300\n",
      "20/20 [==============================] - 6s 319ms/step - loss: 0.3900 - accuracy: 0.8580 - val_loss: 0.5134 - val_accuracy: 0.8415\n",
      "Epoch 268/300\n",
      "20/20 [==============================] - 6s 320ms/step - loss: 0.3976 - accuracy: 0.8344 - val_loss: 0.5126 - val_accuracy: 0.8537\n",
      "Epoch 269/300\n",
      "20/20 [==============================] - 6s 319ms/step - loss: 0.3977 - accuracy: 0.8360 - val_loss: 0.5132 - val_accuracy: 0.8415\n",
      "Epoch 270/300\n",
      "20/20 [==============================] - 6s 323ms/step - loss: 0.4003 - accuracy: 0.8517 - val_loss: 0.5126 - val_accuracy: 0.8537\n",
      "Epoch 271/300\n",
      "20/20 [==============================] - 6s 322ms/step - loss: 0.3999 - accuracy: 0.8423 - val_loss: 0.5126 - val_accuracy: 0.8537\n",
      "Epoch 272/300\n",
      "20/20 [==============================] - 6s 322ms/step - loss: 0.3987 - accuracy: 0.8454 - val_loss: 0.5124 - val_accuracy: 0.8537\n",
      "Epoch 273/300\n",
      "20/20 [==============================] - 6s 324ms/step - loss: 0.3958 - accuracy: 0.8517 - val_loss: 0.5117 - val_accuracy: 0.8537\n",
      "Epoch 274/300\n",
      "20/20 [==============================] - 6s 324ms/step - loss: 0.3983 - accuracy: 0.8549 - val_loss: 0.5114 - val_accuracy: 0.8537\n",
      "Epoch 275/300\n",
      "20/20 [==============================] - 7s 326ms/step - loss: 0.3978 - accuracy: 0.8454 - val_loss: 0.5114 - val_accuracy: 0.8537\n",
      "Epoch 276/300\n",
      "20/20 [==============================] - 6s 321ms/step - loss: 0.3983 - accuracy: 0.8375 - val_loss: 0.5109 - val_accuracy: 0.8537\n",
      "Epoch 277/300\n",
      "20/20 [==============================] - 6s 323ms/step - loss: 0.3916 - accuracy: 0.8533 - val_loss: 0.5110 - val_accuracy: 0.8537\n",
      "Epoch 278/300\n",
      "20/20 [==============================] - 7s 328ms/step - loss: 0.4006 - accuracy: 0.8423 - val_loss: 0.5111 - val_accuracy: 0.8415\n",
      "Epoch 279/300\n",
      "20/20 [==============================] - 6s 322ms/step - loss: 0.3941 - accuracy: 0.8454 - val_loss: 0.5094 - val_accuracy: 0.8659\n",
      "Epoch 280/300\n",
      "20/20 [==============================] - 6s 322ms/step - loss: 0.3918 - accuracy: 0.8486 - val_loss: 0.5097 - val_accuracy: 0.8537\n",
      "Epoch 281/300\n",
      "20/20 [==============================] - 6s 320ms/step - loss: 0.3938 - accuracy: 0.8375 - val_loss: 0.5099 - val_accuracy: 0.8537\n",
      "Epoch 282/300\n",
      "20/20 [==============================] - 6s 321ms/step - loss: 0.3920 - accuracy: 0.8502 - val_loss: 0.5102 - val_accuracy: 0.8537\n",
      "Epoch 283/300\n",
      "20/20 [==============================] - 6s 319ms/step - loss: 0.3956 - accuracy: 0.8375 - val_loss: 0.5091 - val_accuracy: 0.8659\n",
      "Epoch 284/300\n",
      "20/20 [==============================] - 6s 323ms/step - loss: 0.3933 - accuracy: 0.8438 - val_loss: 0.5099 - val_accuracy: 0.8415\n",
      "Epoch 285/300\n",
      "20/20 [==============================] - 6s 323ms/step - loss: 0.3931 - accuracy: 0.8502 - val_loss: 0.5091 - val_accuracy: 0.8537\n",
      "Epoch 286/300\n",
      "20/20 [==============================] - 6s 322ms/step - loss: 0.3937 - accuracy: 0.8438 - val_loss: 0.5088 - val_accuracy: 0.8537\n",
      "Epoch 287/300\n",
      "20/20 [==============================] - 6s 324ms/step - loss: 0.3844 - accuracy: 0.8486 - val_loss: 0.5079 - val_accuracy: 0.8537\n",
      "Epoch 288/300\n",
      "20/20 [==============================] - 6s 321ms/step - loss: 0.3917 - accuracy: 0.8486 - val_loss: 0.5077 - val_accuracy: 0.8659\n",
      "Epoch 289/300\n",
      "20/20 [==============================] - 6s 321ms/step - loss: 0.3881 - accuracy: 0.8502 - val_loss: 0.5087 - val_accuracy: 0.8415\n",
      "Epoch 290/300\n",
      "20/20 [==============================] - 6s 321ms/step - loss: 0.3892 - accuracy: 0.8486 - val_loss: 0.5070 - val_accuracy: 0.8659\n",
      "Epoch 291/300\n",
      "20/20 [==============================] - 6s 324ms/step - loss: 0.3840 - accuracy: 0.8454 - val_loss: 0.5093 - val_accuracy: 0.8415\n",
      "Epoch 292/300\n",
      "20/20 [==============================] - 6s 326ms/step - loss: 0.3883 - accuracy: 0.8438 - val_loss: 0.5074 - val_accuracy: 0.8659\n",
      "Epoch 293/300\n",
      "20/20 [==============================] - 6s 323ms/step - loss: 0.3855 - accuracy: 0.8470 - val_loss: 0.5066 - val_accuracy: 0.8659\n",
      "Epoch 294/300\n",
      "20/20 [==============================] - 6s 319ms/step - loss: 0.3799 - accuracy: 0.8517 - val_loss: 0.5068 - val_accuracy: 0.8537\n",
      "Epoch 295/300\n",
      "20/20 [==============================] - 7s 327ms/step - loss: 0.3850 - accuracy: 0.8423 - val_loss: 0.5064 - val_accuracy: 0.8659\n",
      "Epoch 296/300\n",
      "20/20 [==============================] - 6s 323ms/step - loss: 0.3783 - accuracy: 0.8644 - val_loss: 0.5071 - val_accuracy: 0.8415\n",
      "Epoch 297/300\n",
      "20/20 [==============================] - 6s 321ms/step - loss: 0.3826 - accuracy: 0.8486 - val_loss: 0.5058 - val_accuracy: 0.8659\n",
      "Epoch 298/300\n",
      "20/20 [==============================] - 6s 323ms/step - loss: 0.3813 - accuracy: 0.8612 - val_loss: 0.5053 - val_accuracy: 0.8659\n",
      "Epoch 299/300\n",
      "20/20 [==============================] - 6s 325ms/step - loss: 0.3851 - accuracy: 0.8486 - val_loss: 0.5058 - val_accuracy: 0.8415\n",
      "Epoch 300/300\n",
      "20/20 [==============================] - 6s 324ms/step - loss: 0.3851 - accuracy: 0.8517 - val_loss: 0.5049 - val_accuracy: 0.8659\n"
     ]
    }
   ],
   "source": [
    "history = model.fit(x_train,y_train,epochs = 300 , validation_data = (x_val, y_val))"
   ]
  },
  {
   "cell_type": "code",
   "execution_count": 184,
   "metadata": {},
   "outputs": [
    {
     "name": "stdout",
     "output_type": "stream",
     "text": [
      "3/3 [==============================] - 0s 31ms/step - loss: 0.5049 - accuracy: 0.8659\n"
     ]
    }
   ],
   "source": [
    "cnn_acc = model.evaluate(x=x_val, y=y_val)[1]"
   ]
  },
  {
   "cell_type": "code",
   "execution_count": 185,
   "metadata": {},
   "outputs": [
    {
     "data": {
      "text/plain": [
       "0.8658536672592163"
      ]
     },
     "execution_count": 185,
     "metadata": {},
     "output_type": "execute_result"
    }
   ],
   "source": [
    "cnn_acc"
   ]
  },
  {
   "cell_type": "code",
   "execution_count": 186,
   "metadata": {},
   "outputs": [
    {
     "ename": "ValueError",
     "evalue": "x and y must have same first dimension, but have shapes (500,) and (300,)",
     "output_type": "error",
     "traceback": [
      "\u001b[0;31m---------------------------------------------------------------------------\u001b[0m",
      "\u001b[0;31mValueError\u001b[0m                                Traceback (most recent call last)",
      "\u001b[0;32m<ipython-input-186-1e9f80e17e27>\u001b[0m in \u001b[0;36m<module>\u001b[0;34m\u001b[0m\n\u001b[1;32m      8\u001b[0m \u001b[0mplt\u001b[0m\u001b[0;34m.\u001b[0m\u001b[0mfigure\u001b[0m\u001b[0;34m(\u001b[0m\u001b[0mfigsize\u001b[0m\u001b[0;34m=\u001b[0m\u001b[0;34m(\u001b[0m\u001b[0;36m15\u001b[0m\u001b[0;34m,\u001b[0m \u001b[0;36m15\u001b[0m\u001b[0;34m)\u001b[0m\u001b[0;34m)\u001b[0m\u001b[0;34m\u001b[0m\u001b[0;34m\u001b[0m\u001b[0m\n\u001b[1;32m      9\u001b[0m \u001b[0mplt\u001b[0m\u001b[0;34m.\u001b[0m\u001b[0msubplot\u001b[0m\u001b[0;34m(\u001b[0m\u001b[0;36m2\u001b[0m\u001b[0;34m,\u001b[0m \u001b[0;36m2\u001b[0m\u001b[0;34m,\u001b[0m \u001b[0;36m1\u001b[0m\u001b[0;34m)\u001b[0m\u001b[0;34m\u001b[0m\u001b[0;34m\u001b[0m\u001b[0m\n\u001b[0;32m---> 10\u001b[0;31m \u001b[0mplt\u001b[0m\u001b[0;34m.\u001b[0m\u001b[0mplot\u001b[0m\u001b[0;34m(\u001b[0m\u001b[0mepochs_range\u001b[0m\u001b[0;34m,\u001b[0m \u001b[0macc\u001b[0m\u001b[0;34m,\u001b[0m \u001b[0mlabel\u001b[0m\u001b[0;34m=\u001b[0m\u001b[0;34m'Training Accuracy'\u001b[0m\u001b[0;34m)\u001b[0m\u001b[0;34m\u001b[0m\u001b[0;34m\u001b[0m\u001b[0m\n\u001b[0m\u001b[1;32m     11\u001b[0m \u001b[0mplt\u001b[0m\u001b[0;34m.\u001b[0m\u001b[0mplot\u001b[0m\u001b[0;34m(\u001b[0m\u001b[0mepochs_range\u001b[0m\u001b[0;34m,\u001b[0m \u001b[0mval_acc\u001b[0m\u001b[0;34m,\u001b[0m \u001b[0mlabel\u001b[0m\u001b[0;34m=\u001b[0m\u001b[0;34m'Validation Accuracy'\u001b[0m\u001b[0;34m)\u001b[0m\u001b[0;34m\u001b[0m\u001b[0;34m\u001b[0m\u001b[0m\n\u001b[1;32m     12\u001b[0m \u001b[0mplt\u001b[0m\u001b[0;34m.\u001b[0m\u001b[0mlegend\u001b[0m\u001b[0;34m(\u001b[0m\u001b[0mloc\u001b[0m\u001b[0;34m=\u001b[0m\u001b[0;34m'lower right'\u001b[0m\u001b[0;34m)\u001b[0m\u001b[0;34m\u001b[0m\u001b[0;34m\u001b[0m\u001b[0m\n",
      "\u001b[0;32m/apps/software/standard/compiler/gcc/9.2.0/jupyter_conda/2020.11-py3.8/lib/python3.8/site-packages/matplotlib/pyplot.py\u001b[0m in \u001b[0;36mplot\u001b[0;34m(scalex, scaley, data, *args, **kwargs)\u001b[0m\n\u001b[1;32m   2838\u001b[0m \u001b[0;34m@\u001b[0m\u001b[0m_copy_docstring_and_deprecators\u001b[0m\u001b[0;34m(\u001b[0m\u001b[0mAxes\u001b[0m\u001b[0;34m.\u001b[0m\u001b[0mplot\u001b[0m\u001b[0;34m)\u001b[0m\u001b[0;34m\u001b[0m\u001b[0;34m\u001b[0m\u001b[0m\n\u001b[1;32m   2839\u001b[0m \u001b[0;32mdef\u001b[0m \u001b[0mplot\u001b[0m\u001b[0;34m(\u001b[0m\u001b[0;34m*\u001b[0m\u001b[0margs\u001b[0m\u001b[0;34m,\u001b[0m \u001b[0mscalex\u001b[0m\u001b[0;34m=\u001b[0m\u001b[0;32mTrue\u001b[0m\u001b[0;34m,\u001b[0m \u001b[0mscaley\u001b[0m\u001b[0;34m=\u001b[0m\u001b[0;32mTrue\u001b[0m\u001b[0;34m,\u001b[0m \u001b[0mdata\u001b[0m\u001b[0;34m=\u001b[0m\u001b[0;32mNone\u001b[0m\u001b[0;34m,\u001b[0m \u001b[0;34m**\u001b[0m\u001b[0mkwargs\u001b[0m\u001b[0;34m)\u001b[0m\u001b[0;34m:\u001b[0m\u001b[0;34m\u001b[0m\u001b[0;34m\u001b[0m\u001b[0m\n\u001b[0;32m-> 2840\u001b[0;31m     return gca().plot(\n\u001b[0m\u001b[1;32m   2841\u001b[0m         \u001b[0;34m*\u001b[0m\u001b[0margs\u001b[0m\u001b[0;34m,\u001b[0m \u001b[0mscalex\u001b[0m\u001b[0;34m=\u001b[0m\u001b[0mscalex\u001b[0m\u001b[0;34m,\u001b[0m \u001b[0mscaley\u001b[0m\u001b[0;34m=\u001b[0m\u001b[0mscaley\u001b[0m\u001b[0;34m,\u001b[0m\u001b[0;34m\u001b[0m\u001b[0;34m\u001b[0m\u001b[0m\n\u001b[1;32m   2842\u001b[0m         **({\"data\": data} if data is not None else {}), **kwargs)\n",
      "\u001b[0;32m/apps/software/standard/compiler/gcc/9.2.0/jupyter_conda/2020.11-py3.8/lib/python3.8/site-packages/matplotlib/axes/_axes.py\u001b[0m in \u001b[0;36mplot\u001b[0;34m(self, scalex, scaley, data, *args, **kwargs)\u001b[0m\n\u001b[1;32m   1741\u001b[0m         \"\"\"\n\u001b[1;32m   1742\u001b[0m         \u001b[0mkwargs\u001b[0m \u001b[0;34m=\u001b[0m \u001b[0mcbook\u001b[0m\u001b[0;34m.\u001b[0m\u001b[0mnormalize_kwargs\u001b[0m\u001b[0;34m(\u001b[0m\u001b[0mkwargs\u001b[0m\u001b[0;34m,\u001b[0m \u001b[0mmlines\u001b[0m\u001b[0;34m.\u001b[0m\u001b[0mLine2D\u001b[0m\u001b[0;34m)\u001b[0m\u001b[0;34m\u001b[0m\u001b[0;34m\u001b[0m\u001b[0m\n\u001b[0;32m-> 1743\u001b[0;31m         \u001b[0mlines\u001b[0m \u001b[0;34m=\u001b[0m \u001b[0;34m[\u001b[0m\u001b[0;34m*\u001b[0m\u001b[0mself\u001b[0m\u001b[0;34m.\u001b[0m\u001b[0m_get_lines\u001b[0m\u001b[0;34m(\u001b[0m\u001b[0;34m*\u001b[0m\u001b[0margs\u001b[0m\u001b[0;34m,\u001b[0m \u001b[0mdata\u001b[0m\u001b[0;34m=\u001b[0m\u001b[0mdata\u001b[0m\u001b[0;34m,\u001b[0m \u001b[0;34m**\u001b[0m\u001b[0mkwargs\u001b[0m\u001b[0;34m)\u001b[0m\u001b[0;34m]\u001b[0m\u001b[0;34m\u001b[0m\u001b[0;34m\u001b[0m\u001b[0m\n\u001b[0m\u001b[1;32m   1744\u001b[0m         \u001b[0;32mfor\u001b[0m \u001b[0mline\u001b[0m \u001b[0;32min\u001b[0m \u001b[0mlines\u001b[0m\u001b[0;34m:\u001b[0m\u001b[0;34m\u001b[0m\u001b[0;34m\u001b[0m\u001b[0m\n\u001b[1;32m   1745\u001b[0m             \u001b[0mself\u001b[0m\u001b[0;34m.\u001b[0m\u001b[0madd_line\u001b[0m\u001b[0;34m(\u001b[0m\u001b[0mline\u001b[0m\u001b[0;34m)\u001b[0m\u001b[0;34m\u001b[0m\u001b[0;34m\u001b[0m\u001b[0m\n",
      "\u001b[0;32m/apps/software/standard/compiler/gcc/9.2.0/jupyter_conda/2020.11-py3.8/lib/python3.8/site-packages/matplotlib/axes/_base.py\u001b[0m in \u001b[0;36m__call__\u001b[0;34m(self, data, *args, **kwargs)\u001b[0m\n\u001b[1;32m    271\u001b[0m                 \u001b[0mthis\u001b[0m \u001b[0;34m+=\u001b[0m \u001b[0margs\u001b[0m\u001b[0;34m[\u001b[0m\u001b[0;36m0\u001b[0m\u001b[0;34m]\u001b[0m\u001b[0;34m,\u001b[0m\u001b[0;34m\u001b[0m\u001b[0;34m\u001b[0m\u001b[0m\n\u001b[1;32m    272\u001b[0m                 \u001b[0margs\u001b[0m \u001b[0;34m=\u001b[0m \u001b[0margs\u001b[0m\u001b[0;34m[\u001b[0m\u001b[0;36m1\u001b[0m\u001b[0;34m:\u001b[0m\u001b[0;34m]\u001b[0m\u001b[0;34m\u001b[0m\u001b[0;34m\u001b[0m\u001b[0m\n\u001b[0;32m--> 273\u001b[0;31m             \u001b[0;32myield\u001b[0m \u001b[0;32mfrom\u001b[0m \u001b[0mself\u001b[0m\u001b[0;34m.\u001b[0m\u001b[0m_plot_args\u001b[0m\u001b[0;34m(\u001b[0m\u001b[0mthis\u001b[0m\u001b[0;34m,\u001b[0m \u001b[0mkwargs\u001b[0m\u001b[0;34m)\u001b[0m\u001b[0;34m\u001b[0m\u001b[0;34m\u001b[0m\u001b[0m\n\u001b[0m\u001b[1;32m    274\u001b[0m \u001b[0;34m\u001b[0m\u001b[0m\n\u001b[1;32m    275\u001b[0m     \u001b[0;32mdef\u001b[0m \u001b[0mget_next_color\u001b[0m\u001b[0;34m(\u001b[0m\u001b[0mself\u001b[0m\u001b[0;34m)\u001b[0m\u001b[0;34m:\u001b[0m\u001b[0;34m\u001b[0m\u001b[0;34m\u001b[0m\u001b[0m\n",
      "\u001b[0;32m/apps/software/standard/compiler/gcc/9.2.0/jupyter_conda/2020.11-py3.8/lib/python3.8/site-packages/matplotlib/axes/_base.py\u001b[0m in \u001b[0;36m_plot_args\u001b[0;34m(self, tup, kwargs)\u001b[0m\n\u001b[1;32m    397\u001b[0m \u001b[0;34m\u001b[0m\u001b[0m\n\u001b[1;32m    398\u001b[0m         \u001b[0;32mif\u001b[0m \u001b[0mx\u001b[0m\u001b[0;34m.\u001b[0m\u001b[0mshape\u001b[0m\u001b[0;34m[\u001b[0m\u001b[0;36m0\u001b[0m\u001b[0;34m]\u001b[0m \u001b[0;34m!=\u001b[0m \u001b[0my\u001b[0m\u001b[0;34m.\u001b[0m\u001b[0mshape\u001b[0m\u001b[0;34m[\u001b[0m\u001b[0;36m0\u001b[0m\u001b[0;34m]\u001b[0m\u001b[0;34m:\u001b[0m\u001b[0;34m\u001b[0m\u001b[0;34m\u001b[0m\u001b[0m\n\u001b[0;32m--> 399\u001b[0;31m             raise ValueError(f\"x and y must have same first dimension, but \"\n\u001b[0m\u001b[1;32m    400\u001b[0m                              f\"have shapes {x.shape} and {y.shape}\")\n\u001b[1;32m    401\u001b[0m         \u001b[0;32mif\u001b[0m \u001b[0mx\u001b[0m\u001b[0;34m.\u001b[0m\u001b[0mndim\u001b[0m \u001b[0;34m>\u001b[0m \u001b[0;36m2\u001b[0m \u001b[0;32mor\u001b[0m \u001b[0my\u001b[0m\u001b[0;34m.\u001b[0m\u001b[0mndim\u001b[0m \u001b[0;34m>\u001b[0m \u001b[0;36m2\u001b[0m\u001b[0;34m:\u001b[0m\u001b[0;34m\u001b[0m\u001b[0;34m\u001b[0m\u001b[0m\n",
      "\u001b[0;31mValueError\u001b[0m: x and y must have same first dimension, but have shapes (500,) and (300,)"
     ]
    },
    {
     "data": {
      "image/png": "[encoded data removed]",
      "text/plain": [
       "<Figure size 1080x1080 with 1 Axes>"
      ]
     },
     "metadata": {},
     "output_type": "display_data"
    }
   ],
   "source": [
    "acc = history.history['accuracy']\n",
    "val_acc = history.history['val_accuracy']\n",
    "loss = history.history['loss']\n",
    "val_loss = history.history['val_loss']\n",
    "\n",
    "epochs_range = range(500)\n",
    "\n",
    "plt.figure(figsize=(15, 15))\n",
    "plt.subplot(2, 2, 1)\n",
    "plt.plot(epochs_range, acc, label='Training Accuracy')\n",
    "plt.plot(epochs_range, val_acc, label='Validation Accuracy')\n",
    "plt.legend(loc='lower right')\n",
    "plt.title('Training and Validation Accuracy')\n",
    "\n",
    "plt.subplot(2, 2, 2)\n",
    "plt.plot(epochs_range, loss, label='Training Loss')\n",
    "plt.plot(epochs_range, val_loss, label='Validation Loss')\n",
    "plt.legend(loc='upper right')\n",
    "plt.title('Training and Validation Loss')\n",
    "plt.show()"
   ]
  },
  {
   "cell_type": "code",
   "execution_count": 187,
   "metadata": {},
   "outputs": [],
   "source": [
    "base_model = tf.keras.applications.MobileNetV2(input_shape = (224, 224, 3), include_top = False, weights = \"imagenet\")"
   ]
  },
  {
   "cell_type": "code",
   "execution_count": 188,
   "metadata": {},
   "outputs": [],
   "source": [
    "base_model.trainable = False"
   ]
  },
  {
   "cell_type": "code",
   "execution_count": 189,
   "metadata": {},
   "outputs": [],
   "source": [
    "model = tf.keras.Sequential([base_model,\n",
    "                                 tf.keras.layers.GlobalAveragePooling2D(),\n",
    "                                 tf.keras.layers.Dropout(0.2),\n",
    "                                 tf.keras.layers.Dense(18, activation=\"softmax\")                                     \n",
    "                                ])"
   ]
  },
  {
   "cell_type": "code",
   "execution_count": 190,
   "metadata": {},
   "outputs": [
    {
     "name": "stdout",
     "output_type": "stream",
     "text": [
      "Epoch 1/50\n",
      "20/20 [==============================] - 6s 180ms/step - loss: 1.0524 - accuracy: 0.5552 - val_loss: 0.4933 - val_accuracy: 0.8171\n",
      "Epoch 2/50\n",
      "20/20 [==============================] - 3s 149ms/step - loss: 0.4193 - accuracy: 0.8249 - val_loss: 0.4353 - val_accuracy: 0.8537\n",
      "Epoch 3/50\n",
      "20/20 [==============================] - 3s 145ms/step - loss: 0.3593 - accuracy: 0.8675 - val_loss: 0.3852 - val_accuracy: 0.8659\n",
      "Epoch 4/50\n",
      "20/20 [==============================] - 3s 145ms/step - loss: 0.3291 - accuracy: 0.8659 - val_loss: 0.3472 - val_accuracy: 0.8780\n",
      "Epoch 5/50\n",
      "20/20 [==============================] - 3s 143ms/step - loss: 0.2817 - accuracy: 0.8864 - val_loss: 0.3350 - val_accuracy: 0.8780\n",
      "Epoch 6/50\n",
      "20/20 [==============================] - 3s 142ms/step - loss: 0.2537 - accuracy: 0.9132 - val_loss: 0.3354 - val_accuracy: 0.8780\n",
      "Epoch 7/50\n",
      "20/20 [==============================] - 3s 142ms/step - loss: 0.2229 - accuracy: 0.9117 - val_loss: 0.3044 - val_accuracy: 0.8659\n",
      "Epoch 8/50\n",
      "20/20 [==============================] - 3s 142ms/step - loss: 0.2304 - accuracy: 0.9132 - val_loss: 0.2870 - val_accuracy: 0.8537\n",
      "Epoch 9/50\n",
      "20/20 [==============================] - 3s 141ms/step - loss: 0.1918 - accuracy: 0.9401 - val_loss: 0.2735 - val_accuracy: 0.8780\n",
      "Epoch 10/50\n",
      "20/20 [==============================] - 3s 144ms/step - loss: 0.1949 - accuracy: 0.9274 - val_loss: 0.2820 - val_accuracy: 0.8780\n",
      "Epoch 11/50\n",
      "20/20 [==============================] - 3s 143ms/step - loss: 0.1755 - accuracy: 0.9464 - val_loss: 0.2777 - val_accuracy: 0.9024\n",
      "Epoch 12/50\n",
      "20/20 [==============================] - 3s 150ms/step - loss: 0.1728 - accuracy: 0.9432 - val_loss: 0.3052 - val_accuracy: 0.8902\n",
      "Epoch 13/50\n",
      "20/20 [==============================] - 3s 151ms/step - loss: 0.1625 - accuracy: 0.9495 - val_loss: 0.2833 - val_accuracy: 0.8902\n",
      "Epoch 14/50\n",
      "20/20 [==============================] - 3s 149ms/step - loss: 0.1549 - accuracy: 0.9558 - val_loss: 0.2847 - val_accuracy: 0.8902\n",
      "Epoch 15/50\n",
      "20/20 [==============================] - 3s 147ms/step - loss: 0.1501 - accuracy: 0.9495 - val_loss: 0.2919 - val_accuracy: 0.8902\n",
      "Epoch 16/50\n",
      "20/20 [==============================] - 3s 150ms/step - loss: 0.1433 - accuracy: 0.9574 - val_loss: 0.2609 - val_accuracy: 0.8902\n",
      "Epoch 17/50\n",
      "20/20 [==============================] - 3s 147ms/step - loss: 0.1410 - accuracy: 0.9527 - val_loss: 0.2555 - val_accuracy: 0.8780\n",
      "Epoch 18/50\n",
      "20/20 [==============================] - 3s 149ms/step - loss: 0.1306 - accuracy: 0.9543 - val_loss: 0.2739 - val_accuracy: 0.8902\n",
      "Epoch 19/50\n",
      "20/20 [==============================] - 3s 148ms/step - loss: 0.1175 - accuracy: 0.9700 - val_loss: 0.2789 - val_accuracy: 0.8902\n",
      "Epoch 20/50\n",
      "20/20 [==============================] - 3s 146ms/step - loss: 0.1126 - accuracy: 0.9700 - val_loss: 0.2736 - val_accuracy: 0.8902\n",
      "Epoch 21/50\n",
      "20/20 [==============================] - 3s 148ms/step - loss: 0.1176 - accuracy: 0.9590 - val_loss: 0.2988 - val_accuracy: 0.9024\n",
      "Epoch 22/50\n",
      "20/20 [==============================] - 3s 150ms/step - loss: 0.1037 - accuracy: 0.9669 - val_loss: 0.2659 - val_accuracy: 0.8780\n",
      "Epoch 23/50\n",
      "20/20 [==============================] - 3s 150ms/step - loss: 0.0988 - accuracy: 0.9779 - val_loss: 0.2629 - val_accuracy: 0.8659\n",
      "Epoch 24/50\n",
      "20/20 [==============================] - 3s 150ms/step - loss: 0.1077 - accuracy: 0.9748 - val_loss: 0.2596 - val_accuracy: 0.8659\n",
      "Epoch 25/50\n",
      "20/20 [==============================] - 3s 150ms/step - loss: 0.0871 - accuracy: 0.9858 - val_loss: 0.2987 - val_accuracy: 0.8902\n",
      "Epoch 26/50\n",
      "20/20 [==============================] - 3s 152ms/step - loss: 0.0934 - accuracy: 0.9748 - val_loss: 0.2736 - val_accuracy: 0.8780\n",
      "Epoch 27/50\n",
      "20/20 [==============================] - 3s 150ms/step - loss: 0.0896 - accuracy: 0.9795 - val_loss: 0.3054 - val_accuracy: 0.9024\n",
      "Epoch 28/50\n",
      "20/20 [==============================] - 3s 152ms/step - loss: 0.0813 - accuracy: 0.9811 - val_loss: 0.2713 - val_accuracy: 0.8780\n",
      "Epoch 29/50\n",
      "20/20 [==============================] - 3s 151ms/step - loss: 0.0761 - accuracy: 0.9858 - val_loss: 0.2627 - val_accuracy: 0.8659\n",
      "Epoch 30/50\n",
      "20/20 [==============================] - 3s 148ms/step - loss: 0.0837 - accuracy: 0.9763 - val_loss: 0.2851 - val_accuracy: 0.8902\n",
      "Epoch 31/50\n",
      "20/20 [==============================] - 3s 151ms/step - loss: 0.0761 - accuracy: 0.9874 - val_loss: 0.2795 - val_accuracy: 0.8780\n",
      "Epoch 32/50\n",
      "20/20 [==============================] - 3s 149ms/step - loss: 0.0844 - accuracy: 0.9779 - val_loss: 0.2839 - val_accuracy: 0.8902\n",
      "Epoch 33/50\n",
      "20/20 [==============================] - 3s 147ms/step - loss: 0.0807 - accuracy: 0.9748 - val_loss: 0.2729 - val_accuracy: 0.8780\n",
      "Epoch 34/50\n",
      "20/20 [==============================] - 3s 148ms/step - loss: 0.0776 - accuracy: 0.9779 - val_loss: 0.2527 - val_accuracy: 0.8659\n",
      "Epoch 35/50\n",
      "20/20 [==============================] - 3s 149ms/step - loss: 0.0747 - accuracy: 0.9811 - val_loss: 0.2603 - val_accuracy: 0.8659\n",
      "Epoch 36/50\n",
      "20/20 [==============================] - 3s 149ms/step - loss: 0.0651 - accuracy: 0.9874 - val_loss: 0.2619 - val_accuracy: 0.8780\n",
      "Epoch 37/50\n",
      "20/20 [==============================] - 3s 149ms/step - loss: 0.0773 - accuracy: 0.9858 - val_loss: 0.2753 - val_accuracy: 0.8902\n",
      "Epoch 38/50\n",
      "20/20 [==============================] - 3s 149ms/step - loss: 0.0637 - accuracy: 0.9905 - val_loss: 0.2636 - val_accuracy: 0.8659\n",
      "Epoch 39/50\n",
      "20/20 [==============================] - 3s 147ms/step - loss: 0.0643 - accuracy: 0.9874 - val_loss: 0.2925 - val_accuracy: 0.8780\n",
      "Epoch 40/50\n",
      "20/20 [==============================] - 3s 148ms/step - loss: 0.0785 - accuracy: 0.9795 - val_loss: 0.2736 - val_accuracy: 0.8780\n",
      "Epoch 41/50\n",
      "20/20 [==============================] - 3s 148ms/step - loss: 0.0574 - accuracy: 0.9905 - val_loss: 0.2806 - val_accuracy: 0.8659\n",
      "Epoch 42/50\n",
      "20/20 [==============================] - 3s 148ms/step - loss: 0.0641 - accuracy: 0.9811 - val_loss: 0.2895 - val_accuracy: 0.8780\n",
      "Epoch 43/50\n",
      "20/20 [==============================] - 3s 147ms/step - loss: 0.0578 - accuracy: 0.9858 - val_loss: 0.2713 - val_accuracy: 0.8659\n",
      "Epoch 44/50\n",
      "20/20 [==============================] - 3s 150ms/step - loss: 0.0678 - accuracy: 0.9826 - val_loss: 0.2944 - val_accuracy: 0.8902\n",
      "Epoch 45/50\n",
      "20/20 [==============================] - 3s 153ms/step - loss: 0.0561 - accuracy: 0.9905 - val_loss: 0.2874 - val_accuracy: 0.8780\n",
      "Epoch 46/50\n",
      "20/20 [==============================] - 3s 152ms/step - loss: 0.0621 - accuracy: 0.9826 - val_loss: 0.2895 - val_accuracy: 0.8780\n",
      "Epoch 47/50\n",
      "20/20 [==============================] - 3s 153ms/step - loss: 0.0650 - accuracy: 0.9795 - val_loss: 0.2826 - val_accuracy: 0.8902\n",
      "Epoch 48/50\n",
      "20/20 [==============================] - 3s 154ms/step - loss: 0.0534 - accuracy: 0.9874 - val_loss: 0.2871 - val_accuracy: 0.8902\n",
      "Epoch 49/50\n",
      "20/20 [==============================] - 3s 154ms/step - loss: 0.0539 - accuracy: 0.9890 - val_loss: 0.3068 - val_accuracy: 0.8902\n",
      "Epoch 50/50\n",
      "20/20 [==============================] - 3s 158ms/step - loss: 0.0540 - accuracy: 0.9890 - val_loss: 0.2894 - val_accuracy: 0.8780\n"
     ]
    }
   ],
   "source": [
    "base_learning_rate = 0.0012\n",
    "model.compile(optimizer=tf.keras.optimizers.Adam(lr=base_learning_rate),\n",
    "              loss=tf.keras.losses.SparseCategoricalCrossentropy(from_logits=True),\n",
    "              metrics=['accuracy'])\n",
    "\n",
    "history = model.fit(x_train,y_train,epochs = 50 , validation_data = (x_val, y_val))"
   ]
  },
  {
   "cell_type": "code",
   "execution_count": 191,
   "metadata": {},
   "outputs": [
    {
     "name": "stdout",
     "output_type": "stream",
     "text": [
      "3/3 [==============================] - 0s 103ms/step - loss: 0.2894 - accuracy: 0.8780\n"
     ]
    },
    {
     "data": {
      "text/plain": [
       "[0.2894240915775299, 0.8780487775802612]"
      ]
     },
     "execution_count": 191,
     "metadata": {},
     "output_type": "execute_result"
    }
   ],
   "source": [
    "model.evaluate(x=x_val, y=y_val)"
   ]
  },
  {
   "cell_type": "code",
   "execution_count": 192,
   "metadata": {},
   "outputs": [
    {
     "name": "stdout",
     "output_type": "stream",
     "text": [
      "3/3 [==============================] - 0s 109ms/step - loss: 0.2894 - accuracy: 0.8780\n"
     ]
    }
   ],
   "source": [
    "mobilenet_acc = model.evaluate(x=x_val, y=y_val)[1]"
   ]
  },
  {
   "cell_type": "code",
   "execution_count": 193,
   "metadata": {},
   "outputs": [
    {
     "data": {
      "text/plain": [
       "0.8780487775802612"
      ]
     },
     "execution_count": 193,
     "metadata": {},
     "output_type": "execute_result"
    }
   ],
   "source": [
    "mobilenet_acc"
   ]
  },
  {
   "cell_type": "code",
   "execution_count": 194,
   "metadata": {},
   "outputs": [
    {
     "data": {
      "image/png": "[encoded data removed]",
      "text/plain": [
       "<Figure size 1080x1080 with 2 Axes>"
      ]
     },
     "metadata": {},
     "output_type": "display_data"
    }
   ],
   "source": [
    "acc = history.history['accuracy']\n",
    "val_acc = history.history['val_accuracy']\n",
    "loss = history.history['loss']\n",
    "val_loss = history.history['val_loss']\n",
    "epochs_range = range(50)\n",
    "\n",
    "plt.figure(figsize=(15, 15))\n",
    "plt.subplot(2, 2, 1)\n",
    "plt.plot(epochs_range, acc, label='Training Accuracy')\n",
    "plt.plot(epochs_range, val_acc, label='Validation Accuracy')\n",
    "plt.legend(loc='lower right')\n",
    "plt.title('Training and Validation Accuracy')\n",
    "\n",
    "plt.subplot(2, 2, 2)\n",
    "plt.plot(epochs_range, loss, label='Training Loss')\n",
    "plt.plot(epochs_range, val_loss, label='Validation Loss')\n",
    "plt.legend(loc='upper right')\n",
    "plt.title('Training and Validation Loss')\n",
    "plt.show()"
   ]
  },
  {
   "cell_type": "code",
   "execution_count": null,
   "metadata": {},
   "outputs": [],
   "source": [
    "predictions = model.predict_classes(x_val)\n",
    "predictions = predictions.reshape(1,-1)[0]\n",
    "\n",
    "print(classification_report(y_val, predictions, target_names = ['accredited (Class 0)','unaccredited (Class 1)']))"
   ]
  },
  {
   "cell_type": "code",
   "execution_count": 195,
   "metadata": {},
   "outputs": [],
   "source": [
    "base_model = keras.applications.ResNet50(weights=\"imagenet\",\n",
    "                                                  include_top=False)\n",
    "avg = keras.layers.GlobalAveragePooling2D()(base_model.output)\n",
    "output = keras.layers.Dense(18, activation=\"softmax\")(avg)\n",
    "model = keras.models.Model(inputs=base_model.input, outputs=output)"
   ]
  },
  {
   "cell_type": "code",
   "execution_count": 196,
   "metadata": {},
   "outputs": [
    {
     "name": "stdout",
     "output_type": "stream",
     "text": [
      "Epoch 1/50\n",
      "20/20 [==============================] - 12s 495ms/step - loss: 1.3487 - accuracy: 0.4401 - val_loss: 0.7090 - val_accuracy: 0.4878\n",
      "Epoch 2/50\n",
      "20/20 [==============================] - 9s 453ms/step - loss: 0.6626 - accuracy: 0.5899 - val_loss: 0.6790 - val_accuracy: 0.5610\n",
      "Epoch 3/50\n",
      "20/20 [==============================] - 9s 455ms/step - loss: 0.6351 - accuracy: 0.6435 - val_loss: 0.6599 - val_accuracy: 0.7073\n",
      "Epoch 4/50\n",
      "20/20 [==============================] - 9s 454ms/step - loss: 0.6319 - accuracy: 0.6640 - val_loss: 0.6570 - val_accuracy: 0.6220\n",
      "Epoch 5/50\n",
      "20/20 [==============================] - 9s 450ms/step - loss: 0.6118 - accuracy: 0.6909 - val_loss: 0.6494 - val_accuracy: 0.6829\n",
      "Epoch 6/50\n",
      "20/20 [==============================] - 9s 449ms/step - loss: 0.6028 - accuracy: 0.6987 - val_loss: 0.6457 - val_accuracy: 0.7073\n",
      "Epoch 7/50\n",
      "20/20 [==============================] - 9s 453ms/step - loss: 0.5975 - accuracy: 0.6972 - val_loss: 0.6407 - val_accuracy: 0.7073\n",
      "Epoch 8/50\n",
      "20/20 [==============================] - 9s 451ms/step - loss: 0.5969 - accuracy: 0.6845 - val_loss: 0.6529 - val_accuracy: 0.7073\n",
      "Epoch 9/50\n",
      "20/20 [==============================] - 9s 456ms/step - loss: 0.5980 - accuracy: 0.6751 - val_loss: 0.6578 - val_accuracy: 0.6829\n",
      "Epoch 10/50\n",
      "20/20 [==============================] - 9s 455ms/step - loss: 0.5935 - accuracy: 0.7082 - val_loss: 0.6403 - val_accuracy: 0.7317\n",
      "Epoch 11/50\n",
      "20/20 [==============================] - 9s 458ms/step - loss: 0.5843 - accuracy: 0.7192 - val_loss: 0.6339 - val_accuracy: 0.6829\n",
      "Epoch 12/50\n",
      "20/20 [==============================] - 9s 462ms/step - loss: 0.5753 - accuracy: 0.7177 - val_loss: 0.6452 - val_accuracy: 0.6341\n",
      "Epoch 13/50\n",
      "20/20 [==============================] - 9s 458ms/step - loss: 0.5878 - accuracy: 0.6609 - val_loss: 0.6386 - val_accuracy: 0.6585\n",
      "Epoch 14/50\n",
      "20/20 [==============================] - 9s 456ms/step - loss: 0.5762 - accuracy: 0.6940 - val_loss: 0.6339 - val_accuracy: 0.6707\n",
      "Epoch 15/50\n",
      "20/20 [==============================] - 9s 454ms/step - loss: 0.5632 - accuracy: 0.7240 - val_loss: 0.6237 - val_accuracy: 0.7073\n",
      "Epoch 16/50\n",
      "20/20 [==============================] - 9s 457ms/step - loss: 0.5625 - accuracy: 0.7114 - val_loss: 0.6233 - val_accuracy: 0.6951\n",
      "Epoch 17/50\n",
      "20/20 [==============================] - 9s 460ms/step - loss: 0.5561 - accuracy: 0.7429 - val_loss: 0.6242 - val_accuracy: 0.7683\n",
      "Epoch 18/50\n",
      "20/20 [==============================] - 9s 459ms/step - loss: 0.5519 - accuracy: 0.7366 - val_loss: 0.6543 - val_accuracy: 0.7561\n",
      "Epoch 19/50\n",
      "20/20 [==============================] - 9s 456ms/step - loss: 0.5544 - accuracy: 0.7271 - val_loss: 0.6240 - val_accuracy: 0.7683\n",
      "Epoch 20/50\n",
      "20/20 [==============================] - 9s 459ms/step - loss: 0.5506 - accuracy: 0.7271 - val_loss: 0.6164 - val_accuracy: 0.7073\n",
      "Epoch 21/50\n",
      "20/20 [==============================] - 9s 461ms/step - loss: 0.5444 - accuracy: 0.7271 - val_loss: 0.6283 - val_accuracy: 0.7439\n",
      "Epoch 22/50\n",
      "20/20 [==============================] - 9s 464ms/step - loss: 0.5581 - accuracy: 0.7082 - val_loss: 0.6142 - val_accuracy: 0.7439\n",
      "Epoch 23/50\n",
      "20/20 [==============================] - 9s 463ms/step - loss: 0.5391 - accuracy: 0.7382 - val_loss: 0.6166 - val_accuracy: 0.7683\n",
      "Epoch 24/50\n",
      "20/20 [==============================] - 9s 462ms/step - loss: 0.5373 - accuracy: 0.7397 - val_loss: 0.6117 - val_accuracy: 0.7439\n",
      "Epoch 25/50\n",
      "20/20 [==============================] - 9s 463ms/step - loss: 0.5354 - accuracy: 0.7334 - val_loss: 0.6265 - val_accuracy: 0.7561\n",
      "Epoch 26/50\n",
      "20/20 [==============================] - 9s 461ms/step - loss: 0.5428 - accuracy: 0.7587 - val_loss: 0.6111 - val_accuracy: 0.7561\n",
      "Epoch 27/50\n",
      "20/20 [==============================] - 9s 462ms/step - loss: 0.5368 - accuracy: 0.7461 - val_loss: 0.6063 - val_accuracy: 0.7561\n",
      "Epoch 28/50\n",
      "20/20 [==============================] - 9s 464ms/step - loss: 0.5257 - accuracy: 0.7508 - val_loss: 0.6054 - val_accuracy: 0.7317\n",
      "Epoch 29/50\n",
      "20/20 [==============================] - 9s 462ms/step - loss: 0.5226 - accuracy: 0.7397 - val_loss: 0.6199 - val_accuracy: 0.7683\n",
      "Epoch 30/50\n",
      "20/20 [==============================] - 9s 466ms/step - loss: 0.5228 - accuracy: 0.7429 - val_loss: 0.6323 - val_accuracy: 0.7805\n",
      "Epoch 31/50\n",
      "20/20 [==============================] - 9s 462ms/step - loss: 0.5219 - accuracy: 0.7461 - val_loss: 0.6127 - val_accuracy: 0.7805\n",
      "Epoch 32/50\n",
      "20/20 [==============================] - 9s 471ms/step - loss: 0.5396 - accuracy: 0.7319 - val_loss: 0.6040 - val_accuracy: 0.7561\n",
      "Epoch 33/50\n",
      "20/20 [==============================] - 9s 467ms/step - loss: 0.5310 - accuracy: 0.7476 - val_loss: 0.6042 - val_accuracy: 0.7073\n",
      "Epoch 34/50\n",
      "20/20 [==============================] - 9s 467ms/step - loss: 0.5169 - accuracy: 0.7350 - val_loss: 0.6045 - val_accuracy: 0.7073\n",
      "Epoch 35/50\n",
      "20/20 [==============================] - 9s 469ms/step - loss: 0.5159 - accuracy: 0.7524 - val_loss: 0.5988 - val_accuracy: 0.7317\n",
      "Epoch 36/50\n",
      "20/20 [==============================] - 9s 467ms/step - loss: 0.5060 - accuracy: 0.7681 - val_loss: 0.5993 - val_accuracy: 0.7561\n",
      "Epoch 37/50\n",
      "20/20 [==============================] - 9s 470ms/step - loss: 0.5103 - accuracy: 0.7713 - val_loss: 0.5979 - val_accuracy: 0.7439\n",
      "Epoch 38/50\n",
      "20/20 [==============================] - 9s 470ms/step - loss: 0.5064 - accuracy: 0.7697 - val_loss: 0.6033 - val_accuracy: 0.7805\n",
      "Epoch 39/50\n",
      "20/20 [==============================] - 9s 472ms/step - loss: 0.5093 - accuracy: 0.7429 - val_loss: 0.6194 - val_accuracy: 0.7927\n",
      "Epoch 40/50\n",
      "20/20 [==============================] - 9s 475ms/step - loss: 0.5143 - accuracy: 0.7413 - val_loss: 0.7112 - val_accuracy: 0.5732\n",
      "Epoch 41/50\n",
      "20/20 [==============================] - 9s 471ms/step - loss: 0.5342 - accuracy: 0.7145 - val_loss: 0.6140 - val_accuracy: 0.7805\n",
      "Epoch 42/50\n",
      "20/20 [==============================] - 9s 466ms/step - loss: 0.4967 - accuracy: 0.7650 - val_loss: 0.5971 - val_accuracy: 0.7805\n",
      "Epoch 43/50\n",
      "20/20 [==============================] - 9s 471ms/step - loss: 0.5052 - accuracy: 0.7666 - val_loss: 0.6268 - val_accuracy: 0.7561\n",
      "Epoch 44/50\n",
      "20/20 [==============================] - 9s 472ms/step - loss: 0.5024 - accuracy: 0.7650 - val_loss: 0.5988 - val_accuracy: 0.7805\n",
      "Epoch 45/50\n",
      "20/20 [==============================] - 9s 469ms/step - loss: 0.4886 - accuracy: 0.7729 - val_loss: 0.6011 - val_accuracy: 0.6707\n",
      "Epoch 46/50\n",
      "20/20 [==============================] - 9s 471ms/step - loss: 0.4912 - accuracy: 0.7634 - val_loss: 0.5924 - val_accuracy: 0.7805\n",
      "Epoch 47/50\n",
      "20/20 [==============================] - 9s 452ms/step - loss: 0.4941 - accuracy: 0.7839 - val_loss: 0.6032 - val_accuracy: 0.7683\n",
      "Epoch 48/50\n",
      "20/20 [==============================] - 9s 451ms/step - loss: 0.4907 - accuracy: 0.7603 - val_loss: 0.5928 - val_accuracy: 0.7805\n",
      "Epoch 49/50\n",
      "20/20 [==============================] - 9s 448ms/step - loss: 0.4900 - accuracy: 0.7760 - val_loss: 0.5900 - val_accuracy: 0.7805\n",
      "Epoch 50/50\n",
      "20/20 [==============================] - 9s 466ms/step - loss: 0.4844 - accuracy: 0.7839 - val_loss: 0.5915 - val_accuracy: 0.7927\n"
     ]
    }
   ],
   "source": [
    "for layer in base_model.layers:\n",
    "    layer.trainable = False\n",
    "base_learning_rate = 0.0012\n",
    "optimizer = keras.optimizers.Adam(lr=base_learning_rate)\n",
    "model.compile(loss=\"sparse_categorical_crossentropy\", optimizer=optimizer,\n",
    "              metrics=[\"accuracy\"])\n",
    "history = model.fit(x_train,y_train,\n",
    "                    validation_data=(x_val, y_val),\n",
    "                    batch_size=32,\n",
    "                    epochs=50)"
   ]
  },
  {
   "cell_type": "code",
   "execution_count": 31,
   "metadata": {},
   "outputs": [
    {
     "name": "stdout",
     "output_type": "stream",
     "text": [
      "3/3 [==============================] - 1s 316ms/step - loss: 0.5911 - accuracy: 0.7683\n"
     ]
    },
    {
     "data": {
      "text/plain": [
       "[0.591094434261322, 0.7682926654815674]"
      ]
     },
     "execution_count": 31,
     "metadata": {},
     "output_type": "execute_result"
    }
   ],
   "source": [
    "model.evaluate(x=x_val, y=y_val)"
   ]
  },
  {
   "cell_type": "code",
   "execution_count": 197,
   "metadata": {},
   "outputs": [
    {
     "name": "stdout",
     "output_type": "stream",
     "text": [
      "3/3 [==============================] - 1s 334ms/step - loss: 0.5915 - accuracy: 0.7927\n"
     ]
    }
   ],
   "source": [
    "resnet_acc = model.evaluate(x=x_val, y=y_val)[1]"
   ]
  },
  {
   "cell_type": "code",
   "execution_count": 198,
   "metadata": {},
   "outputs": [
    {
     "data": {
      "text/plain": [
       "0.792682945728302"
      ]
     },
     "execution_count": 198,
     "metadata": {},
     "output_type": "execute_result"
    }
   ],
   "source": [
    "resnet_acc"
   ]
  },
  {
   "cell_type": "code",
   "execution_count": 32,
   "metadata": {},
   "outputs": [
    {
     "data": {
      "image/png": "[encoded data removed]",
      "text/plain": [
       "<Figure size 1080x1080 with 2 Axes>"
      ]
     },
     "metadata": {},
     "output_type": "display_data"
    }
   ],
   "source": [
    "acc = history.history['accuracy']\n",
    "val_acc = history.history['val_accuracy']\n",
    "loss = history.history['loss']\n",
    "val_loss = history.history['val_loss']\n",
    "epochs_range = range(50)\n",
    "\n",
    "plt.figure(figsize=(15, 15))\n",
    "plt.subplot(2, 2, 1)\n",
    "plt.plot(epochs_range, acc, label='Training Accuracy')\n",
    "plt.plot(epochs_range, val_acc, label='Validation Accuracy')\n",
    "plt.legend(loc='lower right')\n",
    "plt.title('Training and Validation Accuracy')\n",
    "\n",
    "plt.subplot(2, 2, 2)\n",
    "plt.plot(epochs_range, loss, label='Training Loss')\n",
    "plt.plot(epochs_range, val_loss, label='Validation Loss')\n",
    "plt.legend(loc='upper right')\n",
    "plt.title('Training and Validation Loss')\n",
    "plt.show()"
   ]
  },
  {
   "cell_type": "code",
   "execution_count": 42,
   "metadata": {},
   "outputs": [],
   "source": [
    "base_model = keras.applications.xception.Xception(weights=\"imagenet\",\n",
    "                                                  include_top=False)\n",
    "avg = keras.layers.GlobalAveragePooling2D()(base_model.output)\n",
    "output = keras.layers.Dense(18, activation=\"softmax\")(avg)\n",
    "model = keras.models.Model(inputs=base_model.input, outputs=output)"
   ]
  },
  {
   "cell_type": "code",
   "execution_count": 43,
   "metadata": {},
   "outputs": [
    {
     "name": "stdout",
     "output_type": "stream",
     "text": [
      "Epoch 1/50\n",
      "20/20 [==============================] - 10s 432ms/step - loss: 2.8665 - accuracy: 0.0820 - val_loss: 2.3273 - val_accuracy: 0.3049\n",
      "Epoch 2/50\n",
      "20/20 [==============================] - 8s 397ms/step - loss: 2.0541 - accuracy: 0.2871 - val_loss: 1.6701 - val_accuracy: 0.3293\n",
      "Epoch 3/50\n",
      "20/20 [==============================] - 8s 385ms/step - loss: 1.5507 - accuracy: 0.3281 - val_loss: 1.3126 - val_accuracy: 0.3780\n",
      "Epoch 4/50\n",
      "20/20 [==============================] - 8s 380ms/step - loss: 1.2682 - accuracy: 0.3659 - val_loss: 1.1110 - val_accuracy: 0.4878\n",
      "Epoch 5/50\n",
      "20/20 [==============================] - 8s 386ms/step - loss: 1.0979 - accuracy: 0.4716 - val_loss: 0.9831 - val_accuracy: 0.5366\n",
      "Epoch 6/50\n",
      "20/20 [==============================] - 8s 382ms/step - loss: 0.9800 - accuracy: 0.5536 - val_loss: 0.8917 - val_accuracy: 0.5610\n",
      "Epoch 7/50\n",
      "20/20 [==============================] - 8s 381ms/step - loss: 0.8921 - accuracy: 0.5978 - val_loss: 0.8219 - val_accuracy: 0.5854\n",
      "Epoch 8/50\n",
      "20/20 [==============================] - 8s 384ms/step - loss: 0.8237 - accuracy: 0.6514 - val_loss: 0.7646 - val_accuracy: 0.6829\n",
      "Epoch 9/50\n",
      "20/20 [==============================] - 8s 384ms/step - loss: 0.7656 - accuracy: 0.7224 - val_loss: 0.7190 - val_accuracy: 0.7073\n",
      "Epoch 10/50\n",
      "20/20 [==============================] - 8s 394ms/step - loss: 0.7204 - accuracy: 0.7397 - val_loss: 0.6804 - val_accuracy: 0.7561\n",
      "Epoch 11/50\n",
      "20/20 [==============================] - 8s 388ms/step - loss: 0.6793 - accuracy: 0.7603 - val_loss: 0.6480 - val_accuracy: 0.7805\n",
      "Epoch 12/50\n",
      "20/20 [==============================] - 8s 385ms/step - loss: 0.6461 - accuracy: 0.7823 - val_loss: 0.6223 - val_accuracy: 0.7927\n",
      "Epoch 13/50\n",
      "20/20 [==============================] - 8s 385ms/step - loss: 0.6170 - accuracy: 0.7965 - val_loss: 0.5985 - val_accuracy: 0.8049\n",
      "Epoch 14/50\n",
      "20/20 [==============================] - 8s 386ms/step - loss: 0.5923 - accuracy: 0.8060 - val_loss: 0.5790 - val_accuracy: 0.8171\n",
      "Epoch 15/50\n",
      "20/20 [==============================] - 8s 383ms/step - loss: 0.5700 - accuracy: 0.8107 - val_loss: 0.5616 - val_accuracy: 0.8171\n",
      "Epoch 16/50\n",
      "20/20 [==============================] - 8s 385ms/step - loss: 0.5501 - accuracy: 0.8202 - val_loss: 0.5467 - val_accuracy: 0.8049\n",
      "Epoch 17/50\n",
      "20/20 [==============================] - 8s 387ms/step - loss: 0.5333 - accuracy: 0.8233 - val_loss: 0.5333 - val_accuracy: 0.8049\n",
      "Epoch 18/50\n",
      "20/20 [==============================] - 8s 386ms/step - loss: 0.5168 - accuracy: 0.8375 - val_loss: 0.5214 - val_accuracy: 0.8171\n",
      "Epoch 19/50\n",
      "20/20 [==============================] - 8s 391ms/step - loss: 0.5027 - accuracy: 0.8360 - val_loss: 0.5105 - val_accuracy: 0.8171\n",
      "Epoch 20/50\n",
      "20/20 [==============================] - 8s 404ms/step - loss: 0.4894 - accuracy: 0.8407 - val_loss: 0.5013 - val_accuracy: 0.8171\n",
      "Epoch 21/50\n",
      "20/20 [==============================] - 8s 385ms/step - loss: 0.4776 - accuracy: 0.8470 - val_loss: 0.4928 - val_accuracy: 0.8293\n",
      "Epoch 22/50\n",
      "20/20 [==============================] - 8s 390ms/step - loss: 0.4663 - accuracy: 0.8549 - val_loss: 0.4850 - val_accuracy: 0.8415\n",
      "Epoch 23/50\n",
      "20/20 [==============================] - 8s 389ms/step - loss: 0.4563 - accuracy: 0.8533 - val_loss: 0.4772 - val_accuracy: 0.8293\n",
      "Epoch 24/50\n",
      "20/20 [==============================] - 8s 412ms/step - loss: 0.4468 - accuracy: 0.8549 - val_loss: 0.4710 - val_accuracy: 0.8415\n",
      "Epoch 25/50\n",
      "20/20 [==============================] - 8s 388ms/step - loss: 0.4379 - accuracy: 0.8549 - val_loss: 0.4646 - val_accuracy: 0.8415\n",
      "Epoch 26/50\n",
      "20/20 [==============================] - 8s 387ms/step - loss: 0.4292 - accuracy: 0.8628 - val_loss: 0.4585 - val_accuracy: 0.8293\n",
      "Epoch 27/50\n",
      "20/20 [==============================] - 8s 396ms/step - loss: 0.4215 - accuracy: 0.8628 - val_loss: 0.4531 - val_accuracy: 0.8415\n",
      "Epoch 28/50\n",
      "20/20 [==============================] - 8s 387ms/step - loss: 0.4139 - accuracy: 0.8644 - val_loss: 0.4489 - val_accuracy: 0.8415\n",
      "Epoch 29/50\n",
      "20/20 [==============================] - 8s 389ms/step - loss: 0.4068 - accuracy: 0.8644 - val_loss: 0.4443 - val_accuracy: 0.8415\n",
      "Epoch 30/50\n",
      "20/20 [==============================] - 8s 382ms/step - loss: 0.4000 - accuracy: 0.8659 - val_loss: 0.4394 - val_accuracy: 0.8415\n",
      "Epoch 31/50\n",
      "20/20 [==============================] - 8s 390ms/step - loss: 0.3934 - accuracy: 0.8659 - val_loss: 0.4349 - val_accuracy: 0.8537\n",
      "Epoch 32/50\n",
      "20/20 [==============================] - 8s 421ms/step - loss: 0.3876 - accuracy: 0.8691 - val_loss: 0.4304 - val_accuracy: 0.8415\n",
      "Epoch 33/50\n",
      "20/20 [==============================] - 8s 417ms/step - loss: 0.3816 - accuracy: 0.8707 - val_loss: 0.4270 - val_accuracy: 0.8659\n",
      "Epoch 34/50\n",
      "20/20 [==============================] - 8s 416ms/step - loss: 0.3759 - accuracy: 0.8691 - val_loss: 0.4243 - val_accuracy: 0.8537\n",
      "Epoch 35/50\n",
      "20/20 [==============================] - 8s 411ms/step - loss: 0.3705 - accuracy: 0.8722 - val_loss: 0.4205 - val_accuracy: 0.8537\n",
      "Epoch 36/50\n",
      "20/20 [==============================] - 8s 382ms/step - loss: 0.3654 - accuracy: 0.8738 - val_loss: 0.4169 - val_accuracy: 0.8537\n",
      "Epoch 37/50\n",
      "20/20 [==============================] - 8s 388ms/step - loss: 0.3605 - accuracy: 0.8785 - val_loss: 0.4137 - val_accuracy: 0.8537\n",
      "Epoch 38/50\n",
      "20/20 [==============================] - 8s 397ms/step - loss: 0.3558 - accuracy: 0.8817 - val_loss: 0.4117 - val_accuracy: 0.8659\n",
      "Epoch 39/50\n",
      "20/20 [==============================] - 8s 412ms/step - loss: 0.3511 - accuracy: 0.8817 - val_loss: 0.4073 - val_accuracy: 0.8537\n",
      "Epoch 40/50\n",
      "20/20 [==============================] - 8s 391ms/step - loss: 0.3465 - accuracy: 0.8849 - val_loss: 0.4051 - val_accuracy: 0.8537\n",
      "Epoch 41/50\n",
      "20/20 [==============================] - 8s 390ms/step - loss: 0.3422 - accuracy: 0.8833 - val_loss: 0.4021 - val_accuracy: 0.8537\n",
      "Epoch 42/50\n",
      "20/20 [==============================] - 8s 391ms/step - loss: 0.3379 - accuracy: 0.8880 - val_loss: 0.3992 - val_accuracy: 0.8537\n",
      "Epoch 43/50\n",
      "20/20 [==============================] - 8s 414ms/step - loss: 0.3339 - accuracy: 0.8864 - val_loss: 0.3971 - val_accuracy: 0.8537\n",
      "Epoch 44/50\n",
      "20/20 [==============================] - 8s 400ms/step - loss: 0.3301 - accuracy: 0.8864 - val_loss: 0.3939 - val_accuracy: 0.8537\n",
      "Epoch 45/50\n",
      "20/20 [==============================] - 8s 397ms/step - loss: 0.3260 - accuracy: 0.8912 - val_loss: 0.3926 - val_accuracy: 0.8537\n",
      "Epoch 46/50\n",
      "20/20 [==============================] - 8s 393ms/step - loss: 0.3224 - accuracy: 0.8896 - val_loss: 0.3906 - val_accuracy: 0.8537\n",
      "Epoch 47/50\n",
      "20/20 [==============================] - 8s 389ms/step - loss: 0.3187 - accuracy: 0.8912 - val_loss: 0.3876 - val_accuracy: 0.8659\n",
      "Epoch 48/50\n",
      "20/20 [==============================] - 8s 388ms/step - loss: 0.3152 - accuracy: 0.8959 - val_loss: 0.3858 - val_accuracy: 0.8659\n",
      "Epoch 49/50\n",
      "20/20 [==============================] - 8s 390ms/step - loss: 0.3117 - accuracy: 0.8975 - val_loss: 0.3834 - val_accuracy: 0.8659\n",
      "Epoch 50/50\n",
      "20/20 [==============================] - 8s 391ms/step - loss: 0.3084 - accuracy: 0.9006 - val_loss: 0.3812 - val_accuracy: 0.8659\n"
     ]
    }
   ],
   "source": [
    "for layer in base_model.layers:\n",
    "    layer.trainable = False\n",
    "\n",
    "optimizer = keras.optimizers.Adam(lr=0.0001)\n",
    "model.compile(loss=\"sparse_categorical_crossentropy\", optimizer=optimizer,\n",
    "              metrics=[\"accuracy\"])\n",
    "history = model.fit(x_train,y_train,\n",
    "                    validation_data=(x_val, y_val),\n",
    "                    batch_size=32,\n",
    "                    epochs=50)"
   ]
  },
  {
   "cell_type": "code",
   "execution_count": 44,
   "metadata": {},
   "outputs": [
    {
     "name": "stdout",
     "output_type": "stream",
     "text": [
      "3/3 [==============================] - 1s 268ms/step - loss: 0.3812 - accuracy: 0.8659\n"
     ]
    },
    {
     "data": {
      "text/plain": [
       "[0.38118240237236023, 0.8658536672592163]"
      ]
     },
     "execution_count": 44,
     "metadata": {},
     "output_type": "execute_result"
    }
   ],
   "source": [
    "model.evaluate(x=x_val, y=y_val)"
   ]
  },
  {
   "cell_type": "code",
   "execution_count": 47,
   "metadata": {},
   "outputs": [
    {
     "name": "stdout",
     "output_type": "stream",
     "text": [
      "3/3 [==============================] - 1s 275ms/step - loss: 0.3812 - accuracy: 0.8659\n"
     ]
    }
   ],
   "source": [
    "xception_acc = model.evaluate(x=x_val, y=y_val)[1]"
   ]
  },
  {
   "cell_type": "code",
   "execution_count": 48,
   "metadata": {},
   "outputs": [
    {
     "data": {
      "text/plain": [
       "0.8658536672592163"
      ]
     },
     "execution_count": 48,
     "metadata": {},
     "output_type": "execute_result"
    }
   ],
   "source": [
    "xception_acc"
   ]
  },
  {
   "cell_type": "code",
   "execution_count": 45,
   "metadata": {},
   "outputs": [
    {
     "data": {
      "image/png": "[encoded data removed]",
      "text/plain": [
       "<Figure size 1080x1080 with 2 Axes>"
      ]
     },
     "metadata": {},
     "output_type": "display_data"
    }
   ],
   "source": [
    "acc = history.history['accuracy']\n",
    "val_acc = history.history['val_accuracy']\n",
    "loss = history.history['loss']\n",
    "val_loss = history.history['val_loss']\n",
    "epochs_range = range(50)\n",
    "\n",
    "plt.figure(figsize=(15, 15))\n",
    "plt.subplot(2, 2, 1)\n",
    "plt.plot(epochs_range, acc, label='Training Accuracy')\n",
    "plt.plot(epochs_range, val_acc, label='Validation Accuracy')\n",
    "plt.legend(loc='lower right')\n",
    "plt.title('Training and Validation Accuracy')\n",
    "\n",
    "plt.subplot(2, 2, 2)\n",
    "plt.plot(epochs_range, loss, label='Training Loss')\n",
    "plt.plot(epochs_range, val_loss, label='Validation Loss')\n",
    "plt.legend(loc='upper right')\n",
    "plt.title('Training and Validation Loss')\n",
    "plt.show()"
   ]
  },
  {
   "cell_type": "code",
   "execution_count": 199,
   "metadata": {},
   "outputs": [
    {
     "data": {
      "text/html": [
       "<div>\n",
       "<style scoped>\n",
       "    .dataframe tbody tr th:only-of-type {\n",
       "        vertical-align: middle;\n",
       "    }\n",
       "\n",
       "    .dataframe tbody tr th {\n",
       "        vertical-align: top;\n",
       "    }\n",
       "\n",
       "    .dataframe thead th {\n",
       "        text-align: right;\n",
       "    }\n",
       "</style>\n",
       "<table border=\"1\" class=\"dataframe\">\n",
       "  <thead>\n",
       "    <tr style=\"text-align: right;\">\n",
       "      <th></th>\n",
       "      <th>Model</th>\n",
       "      <th>Accuracy</th>\n",
       "    </tr>\n",
       "  </thead>\n",
       "  <tbody>\n",
       "    <tr>\n",
       "      <th>0</th>\n",
       "      <td>VGG</td>\n",
       "      <td>0.841463</td>\n",
       "    </tr>\n",
       "    <tr>\n",
       "      <th>1</th>\n",
       "      <td>CNN</td>\n",
       "      <td>0.865854</td>\n",
       "    </tr>\n",
       "    <tr>\n",
       "      <th>2</th>\n",
       "      <td>ResNet</td>\n",
       "      <td>0.792683</td>\n",
       "    </tr>\n",
       "    <tr>\n",
       "      <th>3</th>\n",
       "      <td>Xception</td>\n",
       "      <td>0.865854</td>\n",
       "    </tr>\n",
       "    <tr>\n",
       "      <th>4</th>\n",
       "      <td>MobileNetV2</td>\n",
       "      <td>0.878049</td>\n",
       "    </tr>\n",
       "  </tbody>\n",
       "</table>\n",
       "</div>"
      ],
      "text/plain": [
       "         Model  Accuracy\n",
       "0          VGG  0.841463\n",
       "1          CNN  0.865854\n",
       "2       ResNet  0.792683\n",
       "3     Xception  0.865854\n",
       "4  MobileNetV2  0.878049"
      ]
     },
     "execution_count": 199,
     "metadata": {},
     "output_type": "execute_result"
    }
   ],
   "source": [
    "# Import pandas library\n",
    "import pandas as pd\n",
    "  \n",
    "# initialize list of lists\n",
    "data = [['VGG', vgg_acc], ['CNN', cnn_acc], ['ResNet', resnet_acc],['Xception', xception_acc],['MobileNetV2', mobilenet_acc]  ]\n",
    "  \n",
    "# Create the pandas DataFrame\n",
    "df = pd.DataFrame(data, columns=['Model', 'Accuracy'])\n",
    "  \n",
    "# print dataframe.\n",
    "df"
   ]
  },
  {
   "cell_type": "code",
   "execution_count": null,
   "metadata": {},
   "outputs": [],
   "source": []
  }
 ],
 "metadata": {
  "colab": {
   "provenance": []
  },
  "kernelspec": {
   "display_name": "Python 3",
   "language": "python",
   "name": "python3"
  },
  "language_info": {
   "codemirror_mode": {
    "name": "ipython",
    "version": 3
   },
   "file_extension": ".py",
   "mimetype": "text/x-python",
   "name": "python",
   "nbconvert_exporter": "python",
   "pygments_lexer": "ipython3",
   "version": "3.8.8"
  }
 },
 "nbformat": 4,
 "nbformat_minor": 5
}
